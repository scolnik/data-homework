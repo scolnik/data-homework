{
 "cells": [
  {
   "cell_type": "code",
   "execution_count": null,
   "metadata": {},
   "outputs": [],
   "source": [
    "#assignment: Using the Titanic dataset and Bayes Theorem find out which of the following is more likely to survive:\n",
    "# a boy in 2nd class\n",
    "# a woman in 3rd class \n",
    "# a man in 1st class"
   ]
  },
  {
   "cell_type": "code",
   "execution_count": 4,
   "metadata": {},
   "outputs": [
    {
     "data": {
      "text/html": [
       "<div>\n",
       "<style>\n",
       "    .dataframe thead tr:only-child th {\n",
       "        text-align: right;\n",
       "    }\n",
       "\n",
       "    .dataframe thead th {\n",
       "        text-align: left;\n",
       "    }\n",
       "\n",
       "    .dataframe tbody tr th {\n",
       "        vertical-align: top;\n",
       "    }\n",
       "</style>\n",
       "<table border=\"1\" class=\"dataframe\">\n",
       "  <thead>\n",
       "    <tr style=\"text-align: right;\">\n",
       "      <th></th>\n",
       "      <th>pclass</th>\n",
       "      <th>survived</th>\n",
       "      <th>name</th>\n",
       "      <th>sex</th>\n",
       "      <th>age</th>\n",
       "      <th>sibsp</th>\n",
       "      <th>parch</th>\n",
       "      <th>ticket</th>\n",
       "      <th>fare</th>\n",
       "      <th>cabin</th>\n",
       "      <th>embarked</th>\n",
       "      <th>boat</th>\n",
       "      <th>body</th>\n",
       "      <th>home.dest</th>\n",
       "    </tr>\n",
       "  </thead>\n",
       "  <tbody>\n",
       "    <tr>\n",
       "      <th>0</th>\n",
       "      <td>1</td>\n",
       "      <td>1</td>\n",
       "      <td>Allen, Miss. Elisabeth Walton</td>\n",
       "      <td>female</td>\n",
       "      <td>29.0000</td>\n",
       "      <td>0</td>\n",
       "      <td>0</td>\n",
       "      <td>24160</td>\n",
       "      <td>211.3375</td>\n",
       "      <td>B5</td>\n",
       "      <td>S</td>\n",
       "      <td>2</td>\n",
       "      <td>NaN</td>\n",
       "      <td>St Louis, MO</td>\n",
       "    </tr>\n",
       "    <tr>\n",
       "      <th>1</th>\n",
       "      <td>1</td>\n",
       "      <td>1</td>\n",
       "      <td>Allison, Master. Hudson Trevor</td>\n",
       "      <td>male</td>\n",
       "      <td>0.9167</td>\n",
       "      <td>1</td>\n",
       "      <td>2</td>\n",
       "      <td>113781</td>\n",
       "      <td>151.5500</td>\n",
       "      <td>C22 C26</td>\n",
       "      <td>S</td>\n",
       "      <td>11</td>\n",
       "      <td>NaN</td>\n",
       "      <td>Montreal, PQ / Chesterville, ON</td>\n",
       "    </tr>\n",
       "    <tr>\n",
       "      <th>2</th>\n",
       "      <td>1</td>\n",
       "      <td>0</td>\n",
       "      <td>Allison, Miss. Helen Loraine</td>\n",
       "      <td>female</td>\n",
       "      <td>2.0000</td>\n",
       "      <td>1</td>\n",
       "      <td>2</td>\n",
       "      <td>113781</td>\n",
       "      <td>151.5500</td>\n",
       "      <td>C22 C26</td>\n",
       "      <td>S</td>\n",
       "      <td>NaN</td>\n",
       "      <td>NaN</td>\n",
       "      <td>Montreal, PQ / Chesterville, ON</td>\n",
       "    </tr>\n",
       "    <tr>\n",
       "      <th>3</th>\n",
       "      <td>1</td>\n",
       "      <td>0</td>\n",
       "      <td>Allison, Mr. Hudson Joshua Creighton</td>\n",
       "      <td>male</td>\n",
       "      <td>30.0000</td>\n",
       "      <td>1</td>\n",
       "      <td>2</td>\n",
       "      <td>113781</td>\n",
       "      <td>151.5500</td>\n",
       "      <td>C22 C26</td>\n",
       "      <td>S</td>\n",
       "      <td>NaN</td>\n",
       "      <td>135.0</td>\n",
       "      <td>Montreal, PQ / Chesterville, ON</td>\n",
       "    </tr>\n",
       "    <tr>\n",
       "      <th>4</th>\n",
       "      <td>1</td>\n",
       "      <td>0</td>\n",
       "      <td>Allison, Mrs. Hudson J C (Bessie Waldo Daniels)</td>\n",
       "      <td>female</td>\n",
       "      <td>25.0000</td>\n",
       "      <td>1</td>\n",
       "      <td>2</td>\n",
       "      <td>113781</td>\n",
       "      <td>151.5500</td>\n",
       "      <td>C22 C26</td>\n",
       "      <td>S</td>\n",
       "      <td>NaN</td>\n",
       "      <td>NaN</td>\n",
       "      <td>Montreal, PQ / Chesterville, ON</td>\n",
       "    </tr>\n",
       "  </tbody>\n",
       "</table>\n",
       "</div>"
      ],
      "text/plain": [
       "   pclass  survived                                             name     sex  \\\n",
       "0       1         1                    Allen, Miss. Elisabeth Walton  female   \n",
       "1       1         1                   Allison, Master. Hudson Trevor    male   \n",
       "2       1         0                     Allison, Miss. Helen Loraine  female   \n",
       "3       1         0             Allison, Mr. Hudson Joshua Creighton    male   \n",
       "4       1         0  Allison, Mrs. Hudson J C (Bessie Waldo Daniels)  female   \n",
       "\n",
       "       age  sibsp  parch  ticket      fare    cabin embarked boat   body  \\\n",
       "0  29.0000      0      0   24160  211.3375       B5        S    2    NaN   \n",
       "1   0.9167      1      2  113781  151.5500  C22 C26        S   11    NaN   \n",
       "2   2.0000      1      2  113781  151.5500  C22 C26        S  NaN    NaN   \n",
       "3  30.0000      1      2  113781  151.5500  C22 C26        S  NaN  135.0   \n",
       "4  25.0000      1      2  113781  151.5500  C22 C26        S  NaN    NaN   \n",
       "\n",
       "                         home.dest  \n",
       "0                     St Louis, MO  \n",
       "1  Montreal, PQ / Chesterville, ON  \n",
       "2  Montreal, PQ / Chesterville, ON  \n",
       "3  Montreal, PQ / Chesterville, ON  \n",
       "4  Montreal, PQ / Chesterville, ON  "
      ]
     },
     "execution_count": 4,
     "metadata": {},
     "output_type": "execute_result"
    }
   ],
   "source": [
    "import pandas as pd\n",
    "location = 'titanic3.xls'\n",
    "df = pd.read_excel(location)\n",
    "df.head()"
   ]
  },
  {
   "cell_type": "code",
   "execution_count": 5,
   "metadata": {},
   "outputs": [],
   "source": [
    "#preliminary calculations\n",
    "total_passengers = len(df) #1309\n",
    "total_female = len(df[df['sex'] == 'female']) #466\n",
    "total_male = len(df[df['sex'] == 'male']) #843\n",
    "total_adult = len(df[df['age'] >= 18]) #892 #does not include passengers with missing age data who may or may not be adults\n",
    "total_child = len(df[df['age'] < 18]) #154 #does not include passengers with missing age data who may or may not be children\n",
    "total_survived = len(df[df['survived'] == 1]) #500\n",
    "total_1stclass = len(df[df['pclass'] == 1]) #323\n",
    "total_2ndclass = len(df[df['pclass'] == 1]) #323\n",
    "total_3rdclass = len(df[df['pclass'] == 3]) #709\n",
    "\n",
    "adult_survived = len(df[(df['age'] >= 18) & (df['survived'] == 1)]) #346 #does not include passengers with missing age data\n",
    "child_survived = len(df[(df['age'] < 18) & (df['survived'] == 1)]) #81 #does not include passengers with missing age data\n",
    "female_survived = len(df[(df['sex'] == 'female') & (df['survived'] == 1)]) #339\n",
    "male_survived = len(df[(df['sex'] == 'male') & (df['survived'] == 1)]) #161\n",
    "firstclass_survived = len(df[(df['pclass'] == 1) & (df['survived'] == 1)]) #200\n",
    "secondclass_survived = len(df[(df['pclass'] == 2) & (df['survived'] == 1)]) #119\n",
    "thirdclass_survived = len(df[(df['pclass'] == 3) & (df['survived'] == 1)]) #181\n",
    "\n",
    "#probability that a passenger survived\n",
    "p_survived = total_survived / total_passengers # 500/1309 = 0.3819709702062643"
   ]
  },
  {
   "cell_type": "code",
   "execution_count": 6,
   "metadata": {},
   "outputs": [],
   "source": [
    "#Bayes function\n",
    "#probability that a passenger survived given their age, sex, and class\n",
    "def findBayesSurvived(agesurvived,sexsurvived,classsurvived,survived):\n",
    "    return agesurvived*sexsurvived*classsurvived*survived"
   ]
  },
  {
   "cell_type": "code",
   "execution_count": 7,
   "metadata": {},
   "outputs": [
    {
     "data": {
      "text/plain": [
       "0.004742181818181818"
      ]
     },
     "execution_count": 7,
     "metadata": {},
     "output_type": "execute_result"
    }
   ],
   "source": [
    "# a boy in 2nd class\n",
    "#probability that a passenger who survived is a child\n",
    "p_survived_child = child_survived / total_survived # 81/500 = 0.162\n",
    "\n",
    "#probability that a passenger who survived is male\n",
    "p_survived_male = male_survived / total_survived # 161/500 = 0.322\n",
    "\n",
    "#probability that a passenger who survived is in 2nd class\n",
    "p_survived_2ndclass = secondclass_survived / total_survived # 119/500 = 0.238\n",
    "\n",
    "#probability that a survivor is a boy in 2nd class\n",
    "findBayesSurvived(p_survived_child,p_survived_male,p_survived_2ndclass,p_survived)"
   ]
  },
  {
   "cell_type": "code",
   "execution_count": 8,
   "metadata": {},
   "outputs": [
    {
     "data": {
      "text/plain": [
       "0.06487460351413292"
      ]
     },
     "execution_count": 8,
     "metadata": {},
     "output_type": "execute_result"
    }
   ],
   "source": [
    "#probability that a passenger who survived is an adult\n",
    "p_survived_adult = adult_survived / total_survived # 346/500 = 0.692\n",
    "\n",
    "#probability that a passenger who survived is female\n",
    "p_survived_female = female_survived / total_survived # 339/500 = 0.678\n",
    "\n",
    "#probability that a passenger who survived is in 3rd class\n",
    "p_survived_3rdclass = thirdclass_survived / total_survived # 181/500 = 0.362\n",
    "\n",
    "#probability that a survivor is a woman in 3rd class\n",
    "findBayesSurvived(p_survived_adult,p_survived_female,p_survived_3rdclass,p_survived)"
   ]
  },
  {
   "cell_type": "code",
   "execution_count": 9,
   "metadata": {},
   "outputs": [
    {
     "data": {
      "text/plain": [
       "0.03404491978609626"
      ]
     },
     "execution_count": 9,
     "metadata": {},
     "output_type": "execute_result"
    }
   ],
   "source": [
    "#probability that a passenger who survived is an adult\n",
    "p_survived_adult = adult_survived / total_survived # 346/500 = 0.692\n",
    "\n",
    "#probability that a passenger who survived is male\n",
    "p_survived_male = male_survived / total_survived # 161/500 = 0.322\n",
    "\n",
    "#probability that a passenger who survived is in 1st class\n",
    "p_survived_1stclass = firstclass_survived / total_survived # 200/500 = 0.4\n",
    "\n",
    "#probability that a survivor is a man in 1st class\n",
    "findBayesSurvived(p_survived_adult,p_survived_male,p_survived_1stclass,p_survived)"
   ]
  },
  {
   "cell_type": "code",
   "execution_count": null,
   "metadata": {},
   "outputs": [],
   "source": [
    "# 0.0649 > 0.0340 > 0.0047\n",
    "# woman in 3rd class is most likely to survive"
   ]
  },
  {
   "cell_type": "code",
   "execution_count": 25,
   "metadata": {},
   "outputs": [
    {
     "data": {
      "text/plain": [
       "0.49373810975858656"
      ]
     },
     "execution_count": 25,
     "metadata": {},
     "output_type": "execute_result"
    }
   ],
   "source": [
    "#Bonus: What is the actual probability that a woman in 3rd class survived?\n",
    "\n",
    "#calculating the probability that a female adult in 3rd class survived, using the data\n",
    "female = len(df[df['sex'] == 'female']) #466\n",
    "female_adult = len(df[(df['age'] >= 18) & (df['sex'] == 'female')]) #316\n",
    "female_adult_3rdclass = len(df[(df['age'] >= 18) & (df['sex'] == 'female') & (df['pclass'] == 3)]) #106\n",
    "p_female_adult_3rdclass = female_adult_3rdclass / total_passengers #0.08097784568372804\n",
    "female_adult_3rdclass_survived = len(df[(df['age'] >= 18) & (df['sex'] == 'female') & (df['pclass'] == 3) & (df['survived'] == 1)]) #47\n",
    "\n",
    "p_female_adult_3rdclass_survived = female_adult_3rdclass_survived / female_adult_3rdclass\n",
    "p_female_adult_3rdclass_survived #0.44339622641509435\n",
    "\n",
    "#calculating the probability that a female adult in 3rd class survived, by putting the denominator back in Bayes equation\n",
    "p_female = total_female / total_passengers #0.3559969442322384\n",
    "p_adult = total_adult / total_passengers #0.6814362108479756\n",
    "p_3rdclass = total_3rdclass / total_passengers #0.5416348357524828\n",
    "\n",
    "pBayes_female_adult_3rdclass_survived = findBayesSurvived(p_survived_adult,p_survived_female,p_survived_3rdclass,p_survived)\n",
    "pBayes_female_adult_3rdclass_survived = pBayes_female_adult_3rdclass_survived / (p_female * p_adult *p_3rdclass)\n",
    "pBayes_female_adult_3rdclass_survived #0.49373810975858656\n",
    "\n",
    "# 0.44 vs 0.49, close but not exact. Why?"
   ]
  }
 ],
 "metadata": {
  "kernelspec": {
   "display_name": "Python 3.6",
   "language": "python",
   "name": "python36"
  },
  "language_info": {
   "codemirror_mode": {
    "name": "ipython",
    "version": 3
   },
   "file_extension": ".py",
   "mimetype": "text/x-python",
   "name": "python",
   "nbconvert_exporter": "python",
   "pygments_lexer": "ipython3",
   "version": "3.6.3"
  }
 },
 "nbformat": 4,
 "nbformat_minor": 2
}
