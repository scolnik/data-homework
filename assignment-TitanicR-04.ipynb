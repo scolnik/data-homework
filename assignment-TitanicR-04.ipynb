{
 "cells": [
  {
   "cell_type": "code",
   "execution_count": 1,
   "metadata": {},
   "outputs": [],
   "source": [
    "# Using R, load the Titanic dataset. \n",
    "# Remove any duplicates from the table.\n",
    "# Convert the gender column into a numeric field. \n",
    "# Create a column that gives total number of relatives on board.\n",
    "# Then create a regression that explains the # of people that survive based on the available data."
   ]
  },
  {
   "cell_type": "code",
   "execution_count": 2,
   "metadata": {},
   "outputs": [
    {
     "name": "stderr",
     "output_type": "stream",
     "text": [
      "Loading required package: XLConnectJars\n",
      "XLConnect 0.2-13 by Mirai Solutions GmbH [aut],\n",
      "  Martin Studer [cre],\n",
      "  The Apache Software Foundation [ctb, cph] (Apache POI),\n",
      "  Graph Builder [ctb, cph] (Curvesapi Java library)\n",
      "http://www.mirai-solutions.com ,\n",
      "http://miraisolutions.wordpress.com\n"
     ]
    }
   ],
   "source": [
    "library(\"XLConnect\")"
   ]
  },
  {
   "cell_type": "code",
   "execution_count": 3,
   "metadata": {},
   "outputs": [
    {
     "data": {
      "text/html": [
       "<table>\n",
       "<thead><tr><th scope=col>pclass</th><th scope=col>survived</th><th scope=col>name</th><th scope=col>sex</th><th scope=col>age</th><th scope=col>sibsp</th><th scope=col>parch</th><th scope=col>ticket</th><th scope=col>fare</th><th scope=col>cabin</th><th scope=col>embarked</th><th scope=col>boat</th><th scope=col>body</th><th scope=col>home.dest</th></tr></thead>\n",
       "<tbody>\n",
       "\t<tr><td>1                                              </td><td>1                                              </td><td>Allen, Miss. Elisabeth Walton                  </td><td>female                                         </td><td>29.0000                                        </td><td>0                                              </td><td>0                                              </td><td>24160                                          </td><td>211.3375                                       </td><td>B5                                             </td><td>S                                              </td><td>2                                              </td><td>NA                                             </td><td>St Louis, MO                                   </td></tr>\n",
       "\t<tr><td>1                                              </td><td>1                                              </td><td>Allison, Master. Hudson Trevor                 </td><td>male                                           </td><td> 0.9167                                        </td><td>1                                              </td><td>2                                              </td><td>113781                                         </td><td>151.5500                                       </td><td>C22 C26                                        </td><td>S                                              </td><td>11                                             </td><td>NA                                             </td><td>Montreal, PQ / Chesterville, ON                </td></tr>\n",
       "\t<tr><td>1                                              </td><td>0                                              </td><td>Allison, Miss. Helen Loraine                   </td><td>female                                         </td><td> 2.0000                                        </td><td>1                                              </td><td>2                                              </td><td>113781                                         </td><td>151.5500                                       </td><td>C22 C26                                        </td><td>S                                              </td><td>NA                                             </td><td>NA                                             </td><td>Montreal, PQ / Chesterville, ON                </td></tr>\n",
       "\t<tr><td>1                                              </td><td>0                                              </td><td>Allison, Mr. Hudson Joshua Creighton           </td><td>male                                           </td><td>30.0000                                        </td><td>1                                              </td><td>2                                              </td><td>113781                                         </td><td>151.5500                                       </td><td>C22 C26                                        </td><td>S                                              </td><td>NA                                             </td><td>135                                            </td><td>Montreal, PQ / Chesterville, ON                </td></tr>\n",
       "\t<tr><td>1                                              </td><td>0                                              </td><td>Allison, Mrs. Hudson J C (Bessie Waldo Daniels)</td><td>female                                         </td><td>25.0000                                        </td><td>1                                              </td><td>2                                              </td><td>113781                                         </td><td>151.5500                                       </td><td>C22 C26                                        </td><td>S                                              </td><td>NA                                             </td><td>NA                                             </td><td>Montreal, PQ / Chesterville, ON                </td></tr>\n",
       "\t<tr><td>1                                              </td><td>1                                              </td><td>Anderson, Mr. Harry                            </td><td>male                                           </td><td>48.0000                                        </td><td>0                                              </td><td>0                                              </td><td>19952                                          </td><td> 26.5500                                       </td><td>E12                                            </td><td>S                                              </td><td>3                                              </td><td>NA                                             </td><td>New York, NY                                   </td></tr>\n",
       "\t<tr><td>1                                              </td><td>1                                              </td><td>Andrews, Miss. Kornelia Theodosia              </td><td>female                                         </td><td>63.0000                                        </td><td>1                                              </td><td>0                                              </td><td>13502                                          </td><td> 77.9583                                       </td><td>D7                                             </td><td>S                                              </td><td>10                                             </td><td>NA                                             </td><td>Hudson, NY                                     </td></tr>\n",
       "\t<tr><td>1                                              </td><td>0                                              </td><td>Andrews, Mr. Thomas Jr                         </td><td>male                                           </td><td>39.0000                                        </td><td>0                                              </td><td>0                                              </td><td>112050                                         </td><td>  0.0000                                       </td><td>A36                                            </td><td>S                                              </td><td>NA                                             </td><td>NA                                             </td><td>Belfast, NI                                    </td></tr>\n",
       "\t<tr><td>1                                              </td><td>1                                              </td><td>Appleton, Mrs. Edward Dale (Charlotte Lamson)  </td><td>female                                         </td><td>53.0000                                        </td><td>2                                              </td><td>0                                              </td><td>11769                                          </td><td> 51.4792                                       </td><td>C101                                           </td><td>S                                              </td><td>D                                              </td><td>NA                                             </td><td>Bayside, Queens, NY                            </td></tr>\n",
       "\t<tr><td>1                                              </td><td>0                                              </td><td>Artagaveytia, Mr. Ramon                        </td><td>male                                           </td><td>71.0000                                        </td><td>0                                              </td><td>0                                              </td><td>PC 17609                                       </td><td> 49.5042                                       </td><td>NA                                             </td><td>C                                              </td><td>NA                                             </td><td>22                                             </td><td>Montevideo, Uruguay                            </td></tr>\n",
       "</tbody>\n",
       "</table>\n"
      ],
      "text/latex": [
       "\\begin{tabular}{r|llllllllllllll}\n",
       " pclass & survived & name & sex & age & sibsp & parch & ticket & fare & cabin & embarked & boat & body & home.dest\\\\\n",
       "\\hline\n",
       "\t 1                                               & 1                                               & Allen, Miss. Elisabeth Walton                   & female                                          & 29.0000                                         & 0                                               & 0                                               & 24160                                           & 211.3375                                        & B5                                              & S                                               & 2                                               & NA                                              & St Louis, MO                                   \\\\\n",
       "\t 1                                               & 1                                               & Allison, Master. Hudson Trevor                  & male                                            &  0.9167                                         & 1                                               & 2                                               & 113781                                          & 151.5500                                        & C22 C26                                         & S                                               & 11                                              & NA                                              & Montreal, PQ / Chesterville, ON                \\\\\n",
       "\t 1                                               & 0                                               & Allison, Miss. Helen Loraine                    & female                                          &  2.0000                                         & 1                                               & 2                                               & 113781                                          & 151.5500                                        & C22 C26                                         & S                                               & NA                                              & NA                                              & Montreal, PQ / Chesterville, ON                \\\\\n",
       "\t 1                                               & 0                                               & Allison, Mr. Hudson Joshua Creighton            & male                                            & 30.0000                                         & 1                                               & 2                                               & 113781                                          & 151.5500                                        & C22 C26                                         & S                                               & NA                                              & 135                                             & Montreal, PQ / Chesterville, ON                \\\\\n",
       "\t 1                                               & 0                                               & Allison, Mrs. Hudson J C (Bessie Waldo Daniels) & female                                          & 25.0000                                         & 1                                               & 2                                               & 113781                                          & 151.5500                                        & C22 C26                                         & S                                               & NA                                              & NA                                              & Montreal, PQ / Chesterville, ON                \\\\\n",
       "\t 1                                               & 1                                               & Anderson, Mr. Harry                             & male                                            & 48.0000                                         & 0                                               & 0                                               & 19952                                           &  26.5500                                        & E12                                             & S                                               & 3                                               & NA                                              & New York, NY                                   \\\\\n",
       "\t 1                                               & 1                                               & Andrews, Miss. Kornelia Theodosia               & female                                          & 63.0000                                         & 1                                               & 0                                               & 13502                                           &  77.9583                                        & D7                                              & S                                               & 10                                              & NA                                              & Hudson, NY                                     \\\\\n",
       "\t 1                                               & 0                                               & Andrews, Mr. Thomas Jr                          & male                                            & 39.0000                                         & 0                                               & 0                                               & 112050                                          &   0.0000                                        & A36                                             & S                                               & NA                                              & NA                                              & Belfast, NI                                    \\\\\n",
       "\t 1                                               & 1                                               & Appleton, Mrs. Edward Dale (Charlotte Lamson)   & female                                          & 53.0000                                         & 2                                               & 0                                               & 11769                                           &  51.4792                                        & C101                                            & S                                               & D                                               & NA                                              & Bayside, Queens, NY                            \\\\\n",
       "\t 1                                               & 0                                               & Artagaveytia, Mr. Ramon                         & male                                            & 71.0000                                         & 0                                               & 0                                               & PC 17609                                        &  49.5042                                        & NA                                              & C                                               & NA                                              & 22                                              & Montevideo, Uruguay                            \\\\\n",
       "\\end{tabular}\n"
      ],
      "text/markdown": [
       "\n",
       "pclass | survived | name | sex | age | sibsp | parch | ticket | fare | cabin | embarked | boat | body | home.dest | \n",
       "|---|---|---|---|---|---|---|---|---|---|\n",
       "| 1                                               | 1                                               | Allen, Miss. Elisabeth Walton                   | female                                          | 29.0000                                         | 0                                               | 0                                               | 24160                                           | 211.3375                                        | B5                                              | S                                               | 2                                               | NA                                              | St Louis, MO                                    | \n",
       "| 1                                               | 1                                               | Allison, Master. Hudson Trevor                  | male                                            |  0.9167                                         | 1                                               | 2                                               | 113781                                          | 151.5500                                        | C22 C26                                         | S                                               | 11                                              | NA                                              | Montreal, PQ / Chesterville, ON                 | \n",
       "| 1                                               | 0                                               | Allison, Miss. Helen Loraine                    | female                                          |  2.0000                                         | 1                                               | 2                                               | 113781                                          | 151.5500                                        | C22 C26                                         | S                                               | NA                                              | NA                                              | Montreal, PQ / Chesterville, ON                 | \n",
       "| 1                                               | 0                                               | Allison, Mr. Hudson Joshua Creighton            | male                                            | 30.0000                                         | 1                                               | 2                                               | 113781                                          | 151.5500                                        | C22 C26                                         | S                                               | NA                                              | 135                                             | Montreal, PQ / Chesterville, ON                 | \n",
       "| 1                                               | 0                                               | Allison, Mrs. Hudson J C (Bessie Waldo Daniels) | female                                          | 25.0000                                         | 1                                               | 2                                               | 113781                                          | 151.5500                                        | C22 C26                                         | S                                               | NA                                              | NA                                              | Montreal, PQ / Chesterville, ON                 | \n",
       "| 1                                               | 1                                               | Anderson, Mr. Harry                             | male                                            | 48.0000                                         | 0                                               | 0                                               | 19952                                           |  26.5500                                        | E12                                             | S                                               | 3                                               | NA                                              | New York, NY                                    | \n",
       "| 1                                               | 1                                               | Andrews, Miss. Kornelia Theodosia               | female                                          | 63.0000                                         | 1                                               | 0                                               | 13502                                           |  77.9583                                        | D7                                              | S                                               | 10                                              | NA                                              | Hudson, NY                                      | \n",
       "| 1                                               | 0                                               | Andrews, Mr. Thomas Jr                          | male                                            | 39.0000                                         | 0                                               | 0                                               | 112050                                          |   0.0000                                        | A36                                             | S                                               | NA                                              | NA                                              | Belfast, NI                                     | \n",
       "| 1                                               | 1                                               | Appleton, Mrs. Edward Dale (Charlotte Lamson)   | female                                          | 53.0000                                         | 2                                               | 0                                               | 11769                                           |  51.4792                                        | C101                                            | S                                               | D                                               | NA                                              | Bayside, Queens, NY                             | \n",
       "| 1                                               | 0                                               | Artagaveytia, Mr. Ramon                         | male                                            | 71.0000                                         | 0                                               | 0                                               | PC 17609                                        |  49.5042                                        | NA                                              | C                                               | NA                                              | 22                                              | Montevideo, Uruguay                             | \n",
       "\n",
       "\n"
      ],
      "text/plain": [
       "   pclass survived name                                            sex   \n",
       "1  1      1        Allen, Miss. Elisabeth Walton                   female\n",
       "2  1      1        Allison, Master. Hudson Trevor                  male  \n",
       "3  1      0        Allison, Miss. Helen Loraine                    female\n",
       "4  1      0        Allison, Mr. Hudson Joshua Creighton            male  \n",
       "5  1      0        Allison, Mrs. Hudson J C (Bessie Waldo Daniels) female\n",
       "6  1      1        Anderson, Mr. Harry                             male  \n",
       "7  1      1        Andrews, Miss. Kornelia Theodosia               female\n",
       "8  1      0        Andrews, Mr. Thomas Jr                          male  \n",
       "9  1      1        Appleton, Mrs. Edward Dale (Charlotte Lamson)   female\n",
       "10 1      0        Artagaveytia, Mr. Ramon                         male  \n",
       "   age     sibsp parch ticket   fare     cabin   embarked boat body\n",
       "1  29.0000 0     0     24160    211.3375 B5      S        2    NA  \n",
       "2   0.9167 1     2     113781   151.5500 C22 C26 S        11   NA  \n",
       "3   2.0000 1     2     113781   151.5500 C22 C26 S        NA   NA  \n",
       "4  30.0000 1     2     113781   151.5500 C22 C26 S        NA   135 \n",
       "5  25.0000 1     2     113781   151.5500 C22 C26 S        NA   NA  \n",
       "6  48.0000 0     0     19952     26.5500 E12     S        3    NA  \n",
       "7  63.0000 1     0     13502     77.9583 D7      S        10   NA  \n",
       "8  39.0000 0     0     112050     0.0000 A36     S        NA   NA  \n",
       "9  53.0000 2     0     11769     51.4792 C101    S        D    NA  \n",
       "10 71.0000 0     0     PC 17609  49.5042 NA      C        NA   22  \n",
       "   home.dest                      \n",
       "1  St Louis, MO                   \n",
       "2  Montreal, PQ / Chesterville, ON\n",
       "3  Montreal, PQ / Chesterville, ON\n",
       "4  Montreal, PQ / Chesterville, ON\n",
       "5  Montreal, PQ / Chesterville, ON\n",
       "6  New York, NY                   \n",
       "7  Hudson, NY                     \n",
       "8  Belfast, NI                    \n",
       "9  Bayside, Queens, NY            \n",
       "10 Montevideo, Uruguay            "
      ]
     },
     "metadata": {},
     "output_type": "display_data"
    }
   ],
   "source": [
    "df <- readWorksheetFromFile(\"titanic3.xls\",\n",
    "                           sheet=1)\n",
    "head(df,10)"
   ]
  },
  {
   "cell_type": "code",
   "execution_count": 4,
   "metadata": {},
   "outputs": [],
   "source": [
    "# Remove any duplicates from the table:"
   ]
  },
  {
   "cell_type": "code",
   "execution_count": 5,
   "metadata": {},
   "outputs": [
    {
     "data": {
      "text/html": [
       "0"
      ],
      "text/latex": [
       "0"
      ],
      "text/markdown": [
       "0"
      ],
      "text/plain": [
       "[1] 0"
      ]
     },
     "metadata": {},
     "output_type": "display_data"
    }
   ],
   "source": [
    "anyDuplicated(df)"
   ]
  },
  {
   "cell_type": "code",
   "execution_count": 6,
   "metadata": {},
   "outputs": [
    {
     "data": {
      "text/html": [
       "<table>\n",
       "<thead><tr><th scope=col>pclass</th><th scope=col>survived</th><th scope=col>name</th><th scope=col>sex</th><th scope=col>age</th><th scope=col>sibsp</th><th scope=col>parch</th><th scope=col>ticket</th><th scope=col>fare</th><th scope=col>cabin</th><th scope=col>embarked</th><th scope=col>boat</th><th scope=col>body</th><th scope=col>home.dest</th></tr></thead>\n",
       "<tbody>\n",
       "</tbody>\n",
       "</table>\n"
      ],
      "text/latex": [
       "\\begin{tabular}{r|llllllllllllll}\n",
       " pclass & survived & name & sex & age & sibsp & parch & ticket & fare & cabin & embarked & boat & body & home.dest\\\\\n",
       "\\hline\n",
       "\\end{tabular}\n"
      ],
      "text/markdown": [
       "\n",
       "pclass | survived | name | sex | age | sibsp | parch | ticket | fare | cabin | embarked | boat | body | home.dest | \n",
       "||\n",
       "\n",
       "\n"
      ],
      "text/plain": [
       "     pclass survived name sex age sibsp parch ticket fare cabin embarked boat\n",
       "     body home.dest"
      ]
     },
     "metadata": {},
     "output_type": "display_data"
    }
   ],
   "source": [
    "df[duplicated(df),]"
   ]
  },
  {
   "cell_type": "code",
   "execution_count": 7,
   "metadata": {},
   "outputs": [],
   "source": [
    "# Did not find any duplicate rows. However, there could be duplicate entries for the same person but with minor differences.\n",
    "# Ticket # is not a good way to look for duplicates as multiple people traveling together could travel on the same ticket.\n",
    "# Therefore tried checking for duplicate names."
   ]
  },
  {
   "cell_type": "code",
   "execution_count": 8,
   "metadata": {},
   "outputs": [
    {
     "data": {
      "text/html": [
       "727"
      ],
      "text/latex": [
       "727"
      ],
      "text/markdown": [
       "727"
      ],
      "text/plain": [
       "[1] 727"
      ]
     },
     "metadata": {},
     "output_type": "display_data"
    }
   ],
   "source": [
    "anyDuplicated(df$name)\n",
    "# There is at least one duplicated name. The first duplicate is at index 727."
   ]
  },
  {
   "cell_type": "code",
   "execution_count": 9,
   "metadata": {},
   "outputs": [
    {
     "data": {
      "text/html": [
       "<table>\n",
       "<thead><tr><th></th><th scope=col>pclass</th><th scope=col>survived</th><th scope=col>name</th><th scope=col>sex</th><th scope=col>age</th><th scope=col>sibsp</th><th scope=col>parch</th><th scope=col>ticket</th><th scope=col>fare</th><th scope=col>cabin</th><th scope=col>embarked</th><th scope=col>boat</th><th scope=col>body</th><th scope=col>home.dest</th></tr></thead>\n",
       "<tbody>\n",
       "\t<tr><th scope=row>727</th><td>3                   </td><td>0                   </td><td>Connolly, Miss. Kate</td><td>female              </td><td>30                  </td><td>0                   </td><td>0                   </td><td>330972              </td><td>7.6292              </td><td>NA                  </td><td>Q                   </td><td>NA                  </td><td>NA                  </td><td>Ireland             </td></tr>\n",
       "\t<tr><th scope=row>926</th><td>3                   </td><td>0                   </td><td>Kelly, Mr. James    </td><td>male                </td><td>44                  </td><td>0                   </td><td>0                   </td><td>363592              </td><td>8.0500              </td><td>NA                  </td><td>S                   </td><td>NA                  </td><td>NA                  </td><td>NA                  </td></tr>\n",
       "</tbody>\n",
       "</table>\n"
      ],
      "text/latex": [
       "\\begin{tabular}{r|llllllllllllll}\n",
       "  & pclass & survived & name & sex & age & sibsp & parch & ticket & fare & cabin & embarked & boat & body & home.dest\\\\\n",
       "\\hline\n",
       "\t727 & 3                    & 0                    & Connolly, Miss. Kate & female               & 30                   & 0                    & 0                    & 330972               & 7.6292               & NA                   & Q                    & NA                   & NA                   & Ireland             \\\\\n",
       "\t926 & 3                    & 0                    & Kelly, Mr. James     & male                 & 44                   & 0                    & 0                    & 363592               & 8.0500               & NA                   & S                    & NA                   & NA                   & NA                  \\\\\n",
       "\\end{tabular}\n"
      ],
      "text/markdown": [
       "\n",
       "| <!--/--> | pclass | survived | name | sex | age | sibsp | parch | ticket | fare | cabin | embarked | boat | body | home.dest | \n",
       "|---|---|\n",
       "| 727 | 3                    | 0                    | Connolly, Miss. Kate | female               | 30                   | 0                    | 0                    | 330972               | 7.6292               | NA                   | Q                    | NA                   | NA                   | Ireland              | \n",
       "| 926 | 3                    | 0                    | Kelly, Mr. James     | male                 | 44                   | 0                    | 0                    | 363592               | 8.0500               | NA                   | S                    | NA                   | NA                   | NA                   | \n",
       "\n",
       "\n"
      ],
      "text/plain": [
       "    pclass survived name                 sex    age sibsp parch ticket fare  \n",
       "727 3      0        Connolly, Miss. Kate female 30  0     0     330972 7.6292\n",
       "926 3      0        Kelly, Mr. James     male   44  0     0     363592 8.0500\n",
       "    cabin embarked boat body home.dest\n",
       "727 NA    Q        NA   NA   Ireland  \n",
       "926 NA    S        NA   NA   NA       "
      ]
     },
     "metadata": {},
     "output_type": "display_data"
    }
   ],
   "source": [
    "df[duplicated(df$name),]"
   ]
  },
  {
   "cell_type": "code",
   "execution_count": 10,
   "metadata": {},
   "outputs": [
    {
     "data": {
      "text/html": [
       "<table>\n",
       "<thead><tr><th></th><th scope=col>pclass</th><th scope=col>survived</th><th scope=col>name</th><th scope=col>sex</th><th scope=col>age</th><th scope=col>sibsp</th><th scope=col>parch</th><th scope=col>ticket</th><th scope=col>fare</th><th scope=col>cabin</th><th scope=col>embarked</th><th scope=col>boat</th><th scope=col>body</th><th scope=col>home.dest</th></tr></thead>\n",
       "<tbody>\n",
       "\t<tr><th scope=row>726</th><td>3                   </td><td>1                   </td><td>Connolly, Miss. Kate</td><td>female              </td><td>22                  </td><td>0                   </td><td>0                   </td><td>370373              </td><td>7.7500              </td><td>NA                  </td><td>Q                   </td><td>13                  </td><td>NA                  </td><td>Ireland             </td></tr>\n",
       "\t<tr><th scope=row>727</th><td>3                   </td><td>0                   </td><td>Connolly, Miss. Kate</td><td>female              </td><td>30                  </td><td>0                   </td><td>0                   </td><td>330972              </td><td>7.6292              </td><td>NA                  </td><td>Q                   </td><td>NA                  </td><td>NA                  </td><td>Ireland             </td></tr>\n",
       "</tbody>\n",
       "</table>\n"
      ],
      "text/latex": [
       "\\begin{tabular}{r|llllllllllllll}\n",
       "  & pclass & survived & name & sex & age & sibsp & parch & ticket & fare & cabin & embarked & boat & body & home.dest\\\\\n",
       "\\hline\n",
       "\t726 & 3                    & 1                    & Connolly, Miss. Kate & female               & 22                   & 0                    & 0                    & 370373               & 7.7500               & NA                   & Q                    & 13                   & NA                   & Ireland             \\\\\n",
       "\t727 & 3                    & 0                    & Connolly, Miss. Kate & female               & 30                   & 0                    & 0                    & 330972               & 7.6292               & NA                   & Q                    & NA                   & NA                   & Ireland             \\\\\n",
       "\\end{tabular}\n"
      ],
      "text/markdown": [
       "\n",
       "| <!--/--> | pclass | survived | name | sex | age | sibsp | parch | ticket | fare | cabin | embarked | boat | body | home.dest | \n",
       "|---|---|\n",
       "| 726 | 3                    | 1                    | Connolly, Miss. Kate | female               | 22                   | 0                    | 0                    | 370373               | 7.7500               | NA                   | Q                    | 13                   | NA                   | Ireland              | \n",
       "| 727 | 3                    | 0                    | Connolly, Miss. Kate | female               | 30                   | 0                    | 0                    | 330972               | 7.6292               | NA                   | Q                    | NA                   | NA                   | Ireland              | \n",
       "\n",
       "\n"
      ],
      "text/plain": [
       "    pclass survived name                 sex    age sibsp parch ticket fare  \n",
       "726 3      1        Connolly, Miss. Kate female 22  0     0     370373 7.7500\n",
       "727 3      0        Connolly, Miss. Kate female 30  0     0     330972 7.6292\n",
       "    cabin embarked boat body home.dest\n",
       "726 NA    Q        13   NA   Ireland  \n",
       "727 NA    Q        NA   NA   Ireland  "
      ]
     },
     "metadata": {},
     "output_type": "display_data"
    }
   ],
   "source": [
    "df[df$name == 'Connolly, Miss. Kate',]"
   ]
  },
  {
   "cell_type": "code",
   "execution_count": 11,
   "metadata": {},
   "outputs": [
    {
     "data": {
      "text/html": [
       "<table>\n",
       "<thead><tr><th></th><th scope=col>pclass</th><th scope=col>survived</th><th scope=col>name</th><th scope=col>sex</th><th scope=col>age</th><th scope=col>sibsp</th><th scope=col>parch</th><th scope=col>ticket</th><th scope=col>fare</th><th scope=col>cabin</th><th scope=col>embarked</th><th scope=col>boat</th><th scope=col>body</th><th scope=col>home.dest</th></tr></thead>\n",
       "<tbody>\n",
       "\t<tr><th scope=row>925</th><td>3               </td><td>0               </td><td>Kelly, Mr. James</td><td>male            </td><td>34.5            </td><td>0               </td><td>0               </td><td>330911          </td><td>7.8292          </td><td>NA              </td><td>Q               </td><td>NA              </td><td>70              </td><td>NA              </td></tr>\n",
       "\t<tr><th scope=row>926</th><td>3               </td><td>0               </td><td>Kelly, Mr. James</td><td>male            </td><td>44.0            </td><td>0               </td><td>0               </td><td>363592          </td><td>8.0500          </td><td>NA              </td><td>S               </td><td>NA              </td><td>NA              </td><td>NA              </td></tr>\n",
       "</tbody>\n",
       "</table>\n"
      ],
      "text/latex": [
       "\\begin{tabular}{r|llllllllllllll}\n",
       "  & pclass & survived & name & sex & age & sibsp & parch & ticket & fare & cabin & embarked & boat & body & home.dest\\\\\n",
       "\\hline\n",
       "\t925 & 3                & 0                & Kelly, Mr. James & male             & 34.5             & 0                & 0                & 330911           & 7.8292           & NA               & Q                & NA               & 70               & NA              \\\\\n",
       "\t926 & 3                & 0                & Kelly, Mr. James & male             & 44.0             & 0                & 0                & 363592           & 8.0500           & NA               & S                & NA               & NA               & NA              \\\\\n",
       "\\end{tabular}\n"
      ],
      "text/markdown": [
       "\n",
       "| <!--/--> | pclass | survived | name | sex | age | sibsp | parch | ticket | fare | cabin | embarked | boat | body | home.dest | \n",
       "|---|---|\n",
       "| 925 | 3                | 0                | Kelly, Mr. James | male             | 34.5             | 0                | 0                | 330911           | 7.8292           | NA               | Q                | NA               | 70               | NA               | \n",
       "| 926 | 3                | 0                | Kelly, Mr. James | male             | 44.0             | 0                | 0                | 363592           | 8.0500           | NA               | S                | NA               | NA               | NA               | \n",
       "\n",
       "\n"
      ],
      "text/plain": [
       "    pclass survived name             sex  age  sibsp parch ticket fare   cabin\n",
       "925 3      0        Kelly, Mr. James male 34.5 0     0     330911 7.8292 NA   \n",
       "926 3      0        Kelly, Mr. James male 44.0 0     0     363592 8.0500 NA   \n",
       "    embarked boat body home.dest\n",
       "925 Q        NA   70   NA       \n",
       "926 S        NA   NA   NA       "
      ]
     },
     "metadata": {},
     "output_type": "display_data"
    }
   ],
   "source": [
    "df[df$name == 'Kelly, Mr. James',]"
   ]
  },
  {
   "cell_type": "code",
   "execution_count": 12,
   "metadata": {},
   "outputs": [],
   "source": [
    "# There are 2 female passengers with the name Kate Connolly and 2 male passengers with the name James Kelly.\n",
    "# The rows with duplicated names have multiple differences in other data, such as age & ticket number.\n",
    "# These are common Irish names so it is likely that there were simply some passengers with the same first & last name."
   ]
  },
  {
   "cell_type": "code",
   "execution_count": 13,
   "metadata": {},
   "outputs": [],
   "source": [
    "# Convert the gender column into a numeric field:"
   ]
  },
  {
   "cell_type": "code",
   "execution_count": 14,
   "metadata": {},
   "outputs": [],
   "source": [
    "# Checking if there are any records with missing data for sex, or any value other than 'male' or 'female' "
   ]
  },
  {
   "cell_type": "code",
   "execution_count": 15,
   "metadata": {},
   "outputs": [
    {
     "data": {
      "text/html": [
       "FALSE"
      ],
      "text/latex": [
       "FALSE"
      ],
      "text/markdown": [
       "FALSE"
      ],
      "text/plain": [
       "[1] FALSE"
      ]
     },
     "metadata": {},
     "output_type": "display_data"
    }
   ],
   "source": [
    "anyNA(df$sex)\n",
    "# no NA's in sex column "
   ]
  },
  {
   "cell_type": "code",
   "execution_count": 16,
   "metadata": {},
   "outputs": [
    {
     "data": {
      "text/html": [
       "FALSE"
      ],
      "text/latex": [
       "FALSE"
      ],
      "text/markdown": [
       "FALSE"
      ],
      "text/plain": [
       "[1] FALSE"
      ]
     },
     "metadata": {},
     "output_type": "display_data"
    }
   ],
   "source": [
    "any((df$sex != 'male') & (df$sex != 'female'))"
   ]
  },
  {
   "cell_type": "code",
   "execution_count": 17,
   "metadata": {},
   "outputs": [
    {
     "data": {
      "text/html": [
       "<table>\n",
       "<thead><tr><th scope=col>pclass</th><th scope=col>survived</th><th scope=col>name</th><th scope=col>sex</th><th scope=col>age</th><th scope=col>sibsp</th><th scope=col>parch</th><th scope=col>ticket</th><th scope=col>fare</th><th scope=col>cabin</th><th scope=col>embarked</th><th scope=col>boat</th><th scope=col>body</th><th scope=col>home.dest</th><th scope=col>male</th><th scope=col>female</th></tr></thead>\n",
       "<tbody>\n",
       "\t<tr><td>1                                              </td><td>1                                              </td><td>Allen, Miss. Elisabeth Walton                  </td><td>female                                         </td><td>29.0000                                        </td><td>0                                              </td><td>0                                              </td><td>24160                                          </td><td>211.3375                                       </td><td>B5                                             </td><td>S                                              </td><td>2                                              </td><td>NA                                             </td><td>St Louis, MO                                   </td><td>0                                              </td><td>1                                              </td></tr>\n",
       "\t<tr><td>1                                              </td><td>1                                              </td><td>Allison, Master. Hudson Trevor                 </td><td>male                                           </td><td> 0.9167                                        </td><td>1                                              </td><td>2                                              </td><td>113781                                         </td><td>151.5500                                       </td><td>C22 C26                                        </td><td>S                                              </td><td>11                                             </td><td>NA                                             </td><td>Montreal, PQ / Chesterville, ON                </td><td>1                                              </td><td>0                                              </td></tr>\n",
       "\t<tr><td>1                                              </td><td>0                                              </td><td>Allison, Miss. Helen Loraine                   </td><td>female                                         </td><td> 2.0000                                        </td><td>1                                              </td><td>2                                              </td><td>113781                                         </td><td>151.5500                                       </td><td>C22 C26                                        </td><td>S                                              </td><td>NA                                             </td><td>NA                                             </td><td>Montreal, PQ / Chesterville, ON                </td><td>0                                              </td><td>1                                              </td></tr>\n",
       "\t<tr><td>1                                              </td><td>0                                              </td><td>Allison, Mr. Hudson Joshua Creighton           </td><td>male                                           </td><td>30.0000                                        </td><td>1                                              </td><td>2                                              </td><td>113781                                         </td><td>151.5500                                       </td><td>C22 C26                                        </td><td>S                                              </td><td>NA                                             </td><td>135                                            </td><td>Montreal, PQ / Chesterville, ON                </td><td>1                                              </td><td>0                                              </td></tr>\n",
       "\t<tr><td>1                                              </td><td>0                                              </td><td>Allison, Mrs. Hudson J C (Bessie Waldo Daniels)</td><td>female                                         </td><td>25.0000                                        </td><td>1                                              </td><td>2                                              </td><td>113781                                         </td><td>151.5500                                       </td><td>C22 C26                                        </td><td>S                                              </td><td>NA                                             </td><td>NA                                             </td><td>Montreal, PQ / Chesterville, ON                </td><td>0                                              </td><td>1                                              </td></tr>\n",
       "</tbody>\n",
       "</table>\n"
      ],
      "text/latex": [
       "\\begin{tabular}{r|llllllllllllllll}\n",
       " pclass & survived & name & sex & age & sibsp & parch & ticket & fare & cabin & embarked & boat & body & home.dest & male & female\\\\\n",
       "\\hline\n",
       "\t 1                                               & 1                                               & Allen, Miss. Elisabeth Walton                   & female                                          & 29.0000                                         & 0                                               & 0                                               & 24160                                           & 211.3375                                        & B5                                              & S                                               & 2                                               & NA                                              & St Louis, MO                                    & 0                                               & 1                                              \\\\\n",
       "\t 1                                               & 1                                               & Allison, Master. Hudson Trevor                  & male                                            &  0.9167                                         & 1                                               & 2                                               & 113781                                          & 151.5500                                        & C22 C26                                         & S                                               & 11                                              & NA                                              & Montreal, PQ / Chesterville, ON                 & 1                                               & 0                                              \\\\\n",
       "\t 1                                               & 0                                               & Allison, Miss. Helen Loraine                    & female                                          &  2.0000                                         & 1                                               & 2                                               & 113781                                          & 151.5500                                        & C22 C26                                         & S                                               & NA                                              & NA                                              & Montreal, PQ / Chesterville, ON                 & 0                                               & 1                                              \\\\\n",
       "\t 1                                               & 0                                               & Allison, Mr. Hudson Joshua Creighton            & male                                            & 30.0000                                         & 1                                               & 2                                               & 113781                                          & 151.5500                                        & C22 C26                                         & S                                               & NA                                              & 135                                             & Montreal, PQ / Chesterville, ON                 & 1                                               & 0                                              \\\\\n",
       "\t 1                                               & 0                                               & Allison, Mrs. Hudson J C (Bessie Waldo Daniels) & female                                          & 25.0000                                         & 1                                               & 2                                               & 113781                                          & 151.5500                                        & C22 C26                                         & S                                               & NA                                              & NA                                              & Montreal, PQ / Chesterville, ON                 & 0                                               & 1                                              \\\\\n",
       "\\end{tabular}\n"
      ],
      "text/markdown": [
       "\n",
       "pclass | survived | name | sex | age | sibsp | parch | ticket | fare | cabin | embarked | boat | body | home.dest | male | female | \n",
       "|---|---|---|---|---|\n",
       "| 1                                               | 1                                               | Allen, Miss. Elisabeth Walton                   | female                                          | 29.0000                                         | 0                                               | 0                                               | 24160                                           | 211.3375                                        | B5                                              | S                                               | 2                                               | NA                                              | St Louis, MO                                    | 0                                               | 1                                               | \n",
       "| 1                                               | 1                                               | Allison, Master. Hudson Trevor                  | male                                            |  0.9167                                         | 1                                               | 2                                               | 113781                                          | 151.5500                                        | C22 C26                                         | S                                               | 11                                              | NA                                              | Montreal, PQ / Chesterville, ON                 | 1                                               | 0                                               | \n",
       "| 1                                               | 0                                               | Allison, Miss. Helen Loraine                    | female                                          |  2.0000                                         | 1                                               | 2                                               | 113781                                          | 151.5500                                        | C22 C26                                         | S                                               | NA                                              | NA                                              | Montreal, PQ / Chesterville, ON                 | 0                                               | 1                                               | \n",
       "| 1                                               | 0                                               | Allison, Mr. Hudson Joshua Creighton            | male                                            | 30.0000                                         | 1                                               | 2                                               | 113781                                          | 151.5500                                        | C22 C26                                         | S                                               | NA                                              | 135                                             | Montreal, PQ / Chesterville, ON                 | 1                                               | 0                                               | \n",
       "| 1                                               | 0                                               | Allison, Mrs. Hudson J C (Bessie Waldo Daniels) | female                                          | 25.0000                                         | 1                                               | 2                                               | 113781                                          | 151.5500                                        | C22 C26                                         | S                                               | NA                                              | NA                                              | Montreal, PQ / Chesterville, ON                 | 0                                               | 1                                               | \n",
       "\n",
       "\n"
      ],
      "text/plain": [
       "  pclass survived name                                            sex   \n",
       "1 1      1        Allen, Miss. Elisabeth Walton                   female\n",
       "2 1      1        Allison, Master. Hudson Trevor                  male  \n",
       "3 1      0        Allison, Miss. Helen Loraine                    female\n",
       "4 1      0        Allison, Mr. Hudson Joshua Creighton            male  \n",
       "5 1      0        Allison, Mrs. Hudson J C (Bessie Waldo Daniels) female\n",
       "  age     sibsp parch ticket fare     cabin   embarked boat body\n",
       "1 29.0000 0     0     24160  211.3375 B5      S        2    NA  \n",
       "2  0.9167 1     2     113781 151.5500 C22 C26 S        11   NA  \n",
       "3  2.0000 1     2     113781 151.5500 C22 C26 S        NA   NA  \n",
       "4 30.0000 1     2     113781 151.5500 C22 C26 S        NA   135 \n",
       "5 25.0000 1     2     113781 151.5500 C22 C26 S        NA   NA  \n",
       "  home.dest                       male female\n",
       "1 St Louis, MO                    0    1     \n",
       "2 Montreal, PQ / Chesterville, ON 1    0     \n",
       "3 Montreal, PQ / Chesterville, ON 0    1     \n",
       "4 Montreal, PQ / Chesterville, ON 1    0     \n",
       "5 Montreal, PQ / Chesterville, ON 0    1     "
      ]
     },
     "metadata": {},
     "output_type": "display_data"
    }
   ],
   "source": [
    "# Creating dummy variables for gender\n",
    "df$male <- ifelse(df$sex == 'male', 1, 0)\n",
    "df$female <- ifelse(df$sex == 'female', 1, 0)\n",
    "head(df, 5)"
   ]
  },
  {
   "cell_type": "code",
   "execution_count": 18,
   "metadata": {},
   "outputs": [],
   "source": [
    "# Create a column that gives total number of relatives on board:"
   ]
  },
  {
   "cell_type": "code",
   "execution_count": 19,
   "metadata": {},
   "outputs": [
    {
     "data": {
      "text/html": [
       "<table>\n",
       "<thead><tr><th scope=col>pclass</th><th scope=col>survived</th><th scope=col>name</th><th scope=col>sex</th><th scope=col>age</th><th scope=col>sibsp</th><th scope=col>parch</th><th scope=col>ticket</th><th scope=col>fare</th><th scope=col>cabin</th><th scope=col>embarked</th><th scope=col>boat</th><th scope=col>body</th><th scope=col>home.dest</th><th scope=col>male</th><th scope=col>female</th><th scope=col>relatives</th></tr></thead>\n",
       "<tbody>\n",
       "\t<tr><td>1                                              </td><td>1                                              </td><td>Allen, Miss. Elisabeth Walton                  </td><td>female                                         </td><td>29.0000                                        </td><td>0                                              </td><td>0                                              </td><td>24160                                          </td><td>211.3375                                       </td><td>B5                                             </td><td>S                                              </td><td>2                                              </td><td>NA                                             </td><td>St Louis, MO                                   </td><td>0                                              </td><td>1                                              </td><td>0                                              </td></tr>\n",
       "\t<tr><td>1                                              </td><td>1                                              </td><td>Allison, Master. Hudson Trevor                 </td><td>male                                           </td><td> 0.9167                                        </td><td>1                                              </td><td>2                                              </td><td>113781                                         </td><td>151.5500                                       </td><td>C22 C26                                        </td><td>S                                              </td><td>11                                             </td><td>NA                                             </td><td>Montreal, PQ / Chesterville, ON                </td><td>1                                              </td><td>0                                              </td><td>3                                              </td></tr>\n",
       "\t<tr><td>1                                              </td><td>0                                              </td><td>Allison, Miss. Helen Loraine                   </td><td>female                                         </td><td> 2.0000                                        </td><td>1                                              </td><td>2                                              </td><td>113781                                         </td><td>151.5500                                       </td><td>C22 C26                                        </td><td>S                                              </td><td>NA                                             </td><td>NA                                             </td><td>Montreal, PQ / Chesterville, ON                </td><td>0                                              </td><td>1                                              </td><td>3                                              </td></tr>\n",
       "\t<tr><td>1                                              </td><td>0                                              </td><td>Allison, Mr. Hudson Joshua Creighton           </td><td>male                                           </td><td>30.0000                                        </td><td>1                                              </td><td>2                                              </td><td>113781                                         </td><td>151.5500                                       </td><td>C22 C26                                        </td><td>S                                              </td><td>NA                                             </td><td>135                                            </td><td>Montreal, PQ / Chesterville, ON                </td><td>1                                              </td><td>0                                              </td><td>3                                              </td></tr>\n",
       "\t<tr><td>1                                              </td><td>0                                              </td><td>Allison, Mrs. Hudson J C (Bessie Waldo Daniels)</td><td>female                                         </td><td>25.0000                                        </td><td>1                                              </td><td>2                                              </td><td>113781                                         </td><td>151.5500                                       </td><td>C22 C26                                        </td><td>S                                              </td><td>NA                                             </td><td>NA                                             </td><td>Montreal, PQ / Chesterville, ON                </td><td>0                                              </td><td>1                                              </td><td>3                                              </td></tr>\n",
       "\t<tr><td>1                                              </td><td>1                                              </td><td>Anderson, Mr. Harry                            </td><td>male                                           </td><td>48.0000                                        </td><td>0                                              </td><td>0                                              </td><td>19952                                          </td><td> 26.5500                                       </td><td>E12                                            </td><td>S                                              </td><td>3                                              </td><td>NA                                             </td><td>New York, NY                                   </td><td>1                                              </td><td>0                                              </td><td>0                                              </td></tr>\n",
       "\t<tr><td>1                                              </td><td>1                                              </td><td>Andrews, Miss. Kornelia Theodosia              </td><td>female                                         </td><td>63.0000                                        </td><td>1                                              </td><td>0                                              </td><td>13502                                          </td><td> 77.9583                                       </td><td>D7                                             </td><td>S                                              </td><td>10                                             </td><td>NA                                             </td><td>Hudson, NY                                     </td><td>0                                              </td><td>1                                              </td><td>1                                              </td></tr>\n",
       "\t<tr><td>1                                              </td><td>0                                              </td><td>Andrews, Mr. Thomas Jr                         </td><td>male                                           </td><td>39.0000                                        </td><td>0                                              </td><td>0                                              </td><td>112050                                         </td><td>  0.0000                                       </td><td>A36                                            </td><td>S                                              </td><td>NA                                             </td><td>NA                                             </td><td>Belfast, NI                                    </td><td>1                                              </td><td>0                                              </td><td>0                                              </td></tr>\n",
       "\t<tr><td>1                                              </td><td>1                                              </td><td>Appleton, Mrs. Edward Dale (Charlotte Lamson)  </td><td>female                                         </td><td>53.0000                                        </td><td>2                                              </td><td>0                                              </td><td>11769                                          </td><td> 51.4792                                       </td><td>C101                                           </td><td>S                                              </td><td>D                                              </td><td>NA                                             </td><td>Bayside, Queens, NY                            </td><td>0                                              </td><td>1                                              </td><td>2                                              </td></tr>\n",
       "\t<tr><td>1                                              </td><td>0                                              </td><td>Artagaveytia, Mr. Ramon                        </td><td>male                                           </td><td>71.0000                                        </td><td>0                                              </td><td>0                                              </td><td>PC 17609                                       </td><td> 49.5042                                       </td><td>NA                                             </td><td>C                                              </td><td>NA                                             </td><td>22                                             </td><td>Montevideo, Uruguay                            </td><td>1                                              </td><td>0                                              </td><td>0                                              </td></tr>\n",
       "</tbody>\n",
       "</table>\n"
      ],
      "text/latex": [
       "\\begin{tabular}{r|lllllllllllllllll}\n",
       " pclass & survived & name & sex & age & sibsp & parch & ticket & fare & cabin & embarked & boat & body & home.dest & male & female & relatives\\\\\n",
       "\\hline\n",
       "\t 1                                               & 1                                               & Allen, Miss. Elisabeth Walton                   & female                                          & 29.0000                                         & 0                                               & 0                                               & 24160                                           & 211.3375                                        & B5                                              & S                                               & 2                                               & NA                                              & St Louis, MO                                    & 0                                               & 1                                               & 0                                              \\\\\n",
       "\t 1                                               & 1                                               & Allison, Master. Hudson Trevor                  & male                                            &  0.9167                                         & 1                                               & 2                                               & 113781                                          & 151.5500                                        & C22 C26                                         & S                                               & 11                                              & NA                                              & Montreal, PQ / Chesterville, ON                 & 1                                               & 0                                               & 3                                              \\\\\n",
       "\t 1                                               & 0                                               & Allison, Miss. Helen Loraine                    & female                                          &  2.0000                                         & 1                                               & 2                                               & 113781                                          & 151.5500                                        & C22 C26                                         & S                                               & NA                                              & NA                                              & Montreal, PQ / Chesterville, ON                 & 0                                               & 1                                               & 3                                              \\\\\n",
       "\t 1                                               & 0                                               & Allison, Mr. Hudson Joshua Creighton            & male                                            & 30.0000                                         & 1                                               & 2                                               & 113781                                          & 151.5500                                        & C22 C26                                         & S                                               & NA                                              & 135                                             & Montreal, PQ / Chesterville, ON                 & 1                                               & 0                                               & 3                                              \\\\\n",
       "\t 1                                               & 0                                               & Allison, Mrs. Hudson J C (Bessie Waldo Daniels) & female                                          & 25.0000                                         & 1                                               & 2                                               & 113781                                          & 151.5500                                        & C22 C26                                         & S                                               & NA                                              & NA                                              & Montreal, PQ / Chesterville, ON                 & 0                                               & 1                                               & 3                                              \\\\\n",
       "\t 1                                               & 1                                               & Anderson, Mr. Harry                             & male                                            & 48.0000                                         & 0                                               & 0                                               & 19952                                           &  26.5500                                        & E12                                             & S                                               & 3                                               & NA                                              & New York, NY                                    & 1                                               & 0                                               & 0                                              \\\\\n",
       "\t 1                                               & 1                                               & Andrews, Miss. Kornelia Theodosia               & female                                          & 63.0000                                         & 1                                               & 0                                               & 13502                                           &  77.9583                                        & D7                                              & S                                               & 10                                              & NA                                              & Hudson, NY                                      & 0                                               & 1                                               & 1                                              \\\\\n",
       "\t 1                                               & 0                                               & Andrews, Mr. Thomas Jr                          & male                                            & 39.0000                                         & 0                                               & 0                                               & 112050                                          &   0.0000                                        & A36                                             & S                                               & NA                                              & NA                                              & Belfast, NI                                     & 1                                               & 0                                               & 0                                              \\\\\n",
       "\t 1                                               & 1                                               & Appleton, Mrs. Edward Dale (Charlotte Lamson)   & female                                          & 53.0000                                         & 2                                               & 0                                               & 11769                                           &  51.4792                                        & C101                                            & S                                               & D                                               & NA                                              & Bayside, Queens, NY                             & 0                                               & 1                                               & 2                                              \\\\\n",
       "\t 1                                               & 0                                               & Artagaveytia, Mr. Ramon                         & male                                            & 71.0000                                         & 0                                               & 0                                               & PC 17609                                        &  49.5042                                        & NA                                              & C                                               & NA                                              & 22                                              & Montevideo, Uruguay                             & 1                                               & 0                                               & 0                                              \\\\\n",
       "\\end{tabular}\n"
      ],
      "text/markdown": [
       "\n",
       "pclass | survived | name | sex | age | sibsp | parch | ticket | fare | cabin | embarked | boat | body | home.dest | male | female | relatives | \n",
       "|---|---|---|---|---|---|---|---|---|---|\n",
       "| 1                                               | 1                                               | Allen, Miss. Elisabeth Walton                   | female                                          | 29.0000                                         | 0                                               | 0                                               | 24160                                           | 211.3375                                        | B5                                              | S                                               | 2                                               | NA                                              | St Louis, MO                                    | 0                                               | 1                                               | 0                                               | \n",
       "| 1                                               | 1                                               | Allison, Master. Hudson Trevor                  | male                                            |  0.9167                                         | 1                                               | 2                                               | 113781                                          | 151.5500                                        | C22 C26                                         | S                                               | 11                                              | NA                                              | Montreal, PQ / Chesterville, ON                 | 1                                               | 0                                               | 3                                               | \n",
       "| 1                                               | 0                                               | Allison, Miss. Helen Loraine                    | female                                          |  2.0000                                         | 1                                               | 2                                               | 113781                                          | 151.5500                                        | C22 C26                                         | S                                               | NA                                              | NA                                              | Montreal, PQ / Chesterville, ON                 | 0                                               | 1                                               | 3                                               | \n",
       "| 1                                               | 0                                               | Allison, Mr. Hudson Joshua Creighton            | male                                            | 30.0000                                         | 1                                               | 2                                               | 113781                                          | 151.5500                                        | C22 C26                                         | S                                               | NA                                              | 135                                             | Montreal, PQ / Chesterville, ON                 | 1                                               | 0                                               | 3                                               | \n",
       "| 1                                               | 0                                               | Allison, Mrs. Hudson J C (Bessie Waldo Daniels) | female                                          | 25.0000                                         | 1                                               | 2                                               | 113781                                          | 151.5500                                        | C22 C26                                         | S                                               | NA                                              | NA                                              | Montreal, PQ / Chesterville, ON                 | 0                                               | 1                                               | 3                                               | \n",
       "| 1                                               | 1                                               | Anderson, Mr. Harry                             | male                                            | 48.0000                                         | 0                                               | 0                                               | 19952                                           |  26.5500                                        | E12                                             | S                                               | 3                                               | NA                                              | New York, NY                                    | 1                                               | 0                                               | 0                                               | \n",
       "| 1                                               | 1                                               | Andrews, Miss. Kornelia Theodosia               | female                                          | 63.0000                                         | 1                                               | 0                                               | 13502                                           |  77.9583                                        | D7                                              | S                                               | 10                                              | NA                                              | Hudson, NY                                      | 0                                               | 1                                               | 1                                               | \n",
       "| 1                                               | 0                                               | Andrews, Mr. Thomas Jr                          | male                                            | 39.0000                                         | 0                                               | 0                                               | 112050                                          |   0.0000                                        | A36                                             | S                                               | NA                                              | NA                                              | Belfast, NI                                     | 1                                               | 0                                               | 0                                               | \n",
       "| 1                                               | 1                                               | Appleton, Mrs. Edward Dale (Charlotte Lamson)   | female                                          | 53.0000                                         | 2                                               | 0                                               | 11769                                           |  51.4792                                        | C101                                            | S                                               | D                                               | NA                                              | Bayside, Queens, NY                             | 0                                               | 1                                               | 2                                               | \n",
       "| 1                                               | 0                                               | Artagaveytia, Mr. Ramon                         | male                                            | 71.0000                                         | 0                                               | 0                                               | PC 17609                                        |  49.5042                                        | NA                                              | C                                               | NA                                              | 22                                              | Montevideo, Uruguay                             | 1                                               | 0                                               | 0                                               | \n",
       "\n",
       "\n"
      ],
      "text/plain": [
       "   pclass survived name                                            sex   \n",
       "1  1      1        Allen, Miss. Elisabeth Walton                   female\n",
       "2  1      1        Allison, Master. Hudson Trevor                  male  \n",
       "3  1      0        Allison, Miss. Helen Loraine                    female\n",
       "4  1      0        Allison, Mr. Hudson Joshua Creighton            male  \n",
       "5  1      0        Allison, Mrs. Hudson J C (Bessie Waldo Daniels) female\n",
       "6  1      1        Anderson, Mr. Harry                             male  \n",
       "7  1      1        Andrews, Miss. Kornelia Theodosia               female\n",
       "8  1      0        Andrews, Mr. Thomas Jr                          male  \n",
       "9  1      1        Appleton, Mrs. Edward Dale (Charlotte Lamson)   female\n",
       "10 1      0        Artagaveytia, Mr. Ramon                         male  \n",
       "   age     sibsp parch ticket   fare     cabin   embarked boat body\n",
       "1  29.0000 0     0     24160    211.3375 B5      S        2    NA  \n",
       "2   0.9167 1     2     113781   151.5500 C22 C26 S        11   NA  \n",
       "3   2.0000 1     2     113781   151.5500 C22 C26 S        NA   NA  \n",
       "4  30.0000 1     2     113781   151.5500 C22 C26 S        NA   135 \n",
       "5  25.0000 1     2     113781   151.5500 C22 C26 S        NA   NA  \n",
       "6  48.0000 0     0     19952     26.5500 E12     S        3    NA  \n",
       "7  63.0000 1     0     13502     77.9583 D7      S        10   NA  \n",
       "8  39.0000 0     0     112050     0.0000 A36     S        NA   NA  \n",
       "9  53.0000 2     0     11769     51.4792 C101    S        D    NA  \n",
       "10 71.0000 0     0     PC 17609  49.5042 NA      C        NA   22  \n",
       "   home.dest                       male female relatives\n",
       "1  St Louis, MO                    0    1      0        \n",
       "2  Montreal, PQ / Chesterville, ON 1    0      3        \n",
       "3  Montreal, PQ / Chesterville, ON 0    1      3        \n",
       "4  Montreal, PQ / Chesterville, ON 1    0      3        \n",
       "5  Montreal, PQ / Chesterville, ON 0    1      3        \n",
       "6  New York, NY                    1    0      0        \n",
       "7  Hudson, NY                      0    1      1        \n",
       "8  Belfast, NI                     1    0      0        \n",
       "9  Bayside, Queens, NY             0    1      2        \n",
       "10 Montevideo, Uruguay             1    0      0        "
      ]
     },
     "metadata": {},
     "output_type": "display_data"
    }
   ],
   "source": [
    "df$relatives <- df$sibsp + df$parch\n",
    "head(df, 10)"
   ]
  },
  {
   "cell_type": "code",
   "execution_count": 20,
   "metadata": {},
   "outputs": [],
   "source": [
    "# Create a regression that explains which passengers survived based on the available data."
   ]
  },
  {
   "cell_type": "code",
   "execution_count": 21,
   "metadata": {},
   "outputs": [
    {
     "data": {
      "text/plain": [
       "\n",
       "Call:\n",
       "lm(formula = survived ~ pclass + age + female + relatives, data = df)\n",
       "\n",
       "Residuals:\n",
       "     Min       1Q   Median       3Q      Max \n",
       "-1.06217 -0.25457 -0.08101  0.22485  0.99096 \n",
       "\n",
       "Coefficients:\n",
       "              Estimate Std. Error t value Pr(>|t|)    \n",
       "(Intercept)  0.8185092  0.0588974  13.897  < 2e-16 ***\n",
       "pclass      -0.1840870  0.0160132 -11.496  < 2e-16 ***\n",
       "age         -0.0057158  0.0009509  -6.011 2.55e-09 ***\n",
       "female       0.5019920  0.0258632  19.409  < 2e-16 ***\n",
       "relatives   -0.0209386  0.0087070  -2.405   0.0164 *  \n",
       "---\n",
       "Signif. codes:  0 ‘***’ 0.001 ‘**’ 0.01 ‘*’ 0.05 ‘.’ 0.1 ‘ ’ 1\n",
       "\n",
       "Residual standard error: 0.3904 on 1041 degrees of freedom\n",
       "  (263 observations deleted due to missingness)\n",
       "Multiple R-squared:  0.3721,\tAdjusted R-squared:  0.3697 \n",
       "F-statistic: 154.2 on 4 and 1041 DF,  p-value: < 2.2e-16\n"
      ]
     },
     "metadata": {},
     "output_type": "display_data"
    }
   ],
   "source": [
    "# Regression using female as independent variable for gender \n",
    "linearMod <- lm(survived ~ pclass + age + female + relatives, data=df)\n",
    "summary(linearMod)\n",
    "# Adj. R-Squared: 0.3697\n",
    "# Intercept: 0.8185"
   ]
  },
  {
   "cell_type": "code",
   "execution_count": 22,
   "metadata": {},
   "outputs": [
    {
     "data": {
      "text/plain": [
       "\n",
       "Call:\n",
       "lm(formula = survived ~ pclass + age + female + relatives - 1, \n",
       "    data = df)\n",
       "\n",
       "Residuals:\n",
       "    Min      1Q  Median      3Q     Max \n",
       "-0.9058 -0.1711 -0.1023  0.2607  0.9843 \n",
       "\n",
       "Coefficients:\n",
       "           Estimate Std. Error t value Pr(>|t|)    \n",
       "pclass    0.0019745  0.0095604   0.207    0.836    \n",
       "age       0.0045888  0.0006479   7.083 2.59e-12 ***\n",
       "female    0.6068392  0.0269227  22.540  < 2e-16 ***\n",
       "relatives 0.0078649  0.0092035   0.855    0.393    \n",
       "---\n",
       "Signif. codes:  0 ‘***’ 0.001 ‘**’ 0.01 ‘*’ 0.05 ‘.’ 0.1 ‘ ’ 1\n",
       "\n",
       "Residual standard error: 0.4249 on 1042 degrees of freedom\n",
       "  (263 observations deleted due to missingness)\n",
       "Multiple R-squared:  0.5595,\tAdjusted R-squared:  0.5578 \n",
       "F-statistic: 330.8 on 4 and 1042 DF,  p-value: < 2.2e-16\n"
      ]
     },
     "metadata": {},
     "output_type": "display_data"
    }
   ],
   "source": [
    "# Try regression without intercept\n",
    "linearMod <- lm(survived ~ pclass + age + female + relatives - 1, data=df)\n",
    "summary(linearMod)\n",
    "# Adj. R-Squared: 0.5578, increase from previous model\n",
    "# P-value for pclass: 0.836, relatives: 0.393"
   ]
  },
  {
   "cell_type": "code",
   "execution_count": 23,
   "metadata": {},
   "outputs": [
    {
     "data": {
      "text/plain": [
       "\n",
       "Call:\n",
       "lm(formula = survived ~ age + female + relatives - 1, data = df)\n",
       "\n",
       "Residuals:\n",
       "     Min       1Q   Median       3Q      Max \n",
       "-0.91079 -0.16846 -0.09827  0.26145  0.98960 \n",
       "\n",
       "Coefficients:\n",
       "          Estimate Std. Error t value Pr(>|t|)    \n",
       "age       0.004679   0.000476   9.831   <2e-16 ***\n",
       "female    0.607529   0.026703  22.752   <2e-16 ***\n",
       "relatives 0.008455   0.008745   0.967    0.334    \n",
       "---\n",
       "Signif. codes:  0 ‘***’ 0.001 ‘**’ 0.01 ‘*’ 0.05 ‘.’ 0.1 ‘ ’ 1\n",
       "\n",
       "Residual standard error: 0.4247 on 1043 degrees of freedom\n",
       "  (263 observations deleted due to missingness)\n",
       "Multiple R-squared:  0.5594,\tAdjusted R-squared:  0.5582 \n",
       "F-statistic: 441.5 on 3 and 1043 DF,  p-value: < 2.2e-16\n"
      ]
     },
     "metadata": {},
     "output_type": "display_data"
    }
   ],
   "source": [
    "# Try regression without pclass\n",
    "linearMod <- lm(survived ~ age + female + relatives - 1, data=df)\n",
    "summary(linearMod)\n",
    "# Adj. R-Squared: 0.5582, slight increase from previous model\n",
    "# P-value for relatives: 0.334"
   ]
  },
  {
   "cell_type": "code",
   "execution_count": 59,
   "metadata": {
    "scrolled": true
   },
   "outputs": [
    {
     "data": {
      "text/plain": [
       "\n",
       "Call:\n",
       "lm(formula = survived ~ age + female - 1, data = df)\n",
       "\n",
       "Residuals:\n",
       "    Min      1Q  Median      3Q     Max \n",
       "-0.9164 -0.1719 -0.0955  0.2638  0.9980 \n",
       "\n",
       "Coefficients:\n",
       "        Estimate Std. Error t value Pr(>|t|)    \n",
       "age    0.0047748  0.0004657   10.25   <2e-16 ***\n",
       "female 0.6156014  0.0253625   24.27   <2e-16 ***\n",
       "---\n",
       "Signif. codes:  0 ‘***’ 0.001 ‘**’ 0.01 ‘*’ 0.05 ‘.’ 0.1 ‘ ’ 1\n",
       "\n",
       "Residual standard error: 0.4247 on 1044 degrees of freedom\n",
       "  (263 observations deleted due to missingness)\n",
       "Multiple R-squared:  0.5591,\tAdjusted R-squared:  0.5582 \n",
       "F-statistic: 661.8 on 2 and 1044 DF,  p-value: < 2.2e-16\n"
      ]
     },
     "metadata": {},
     "output_type": "display_data"
    }
   ],
   "source": [
    "# Try regression without relatives\n",
    "linearMod <- lm(survived ~ age + female - 1, data=df)\n",
    "summary(linearMod)\n",
    "# Adj. R-Squared: 0.5582\n",
    "# Passengers are more likely to survive if they are female, and slightly more likely to survive as age increases"
   ]
  },
  {
   "cell_type": "code",
   "execution_count": 60,
   "metadata": {},
   "outputs": [
    {
     "data": {
      "text/html": [
       "<strong>1:</strong> 0.701548367942358"
      ],
      "text/latex": [
       "\\textbf{1:} 0.701548367942358"
      ],
      "text/markdown": [
       "**1:** 0.701548367942358"
      ],
      "text/plain": [
       "        1 \n",
       "0.7015484 "
      ]
     },
     "metadata": {},
     "output_type": "display_data"
    }
   ],
   "source": [
    "# using the model, predict survival of 1st class 18-year old female with 0 relatives\n",
    "predict(linearMod, newdata=data.frame(pclass = 1, age = 18, female = 1, relatives = 0))"
   ]
  },
  {
   "cell_type": "code",
   "execution_count": 61,
   "metadata": {},
   "outputs": [
    {
     "data": {
      "text/html": [
       "<dl class=dl-horizontal>\n",
       "\t<dt>1</dt>\n",
       "\t\t<dd>0.754071504368847</dd>\n",
       "\t<dt>2</dt>\n",
       "\t\t<dd>0.00437708719656028</dd>\n",
       "\t<dt>3</dt>\n",
       "\t\t<dd>0.625151078594736</dd>\n",
       "\t<dt>4</dt>\n",
       "\t\t<dd>0.14324491752679</dd>\n",
       "\t<dt>5</dt>\n",
       "\t\t<dd>0.734972182031942</dd>\n",
       "\t<dt>6</dt>\n",
       "\t\t<dd>0.229191868042864</dd>\n",
       "\t<dt>7</dt>\n",
       "\t\t<dd>0.916415744232543</dd>\n",
       "\t<dt>8</dt>\n",
       "\t\t<dd>0.186218392784827</dd>\n",
       "\t<dt>9</dt>\n",
       "\t\t<dd>0.868667438390279</dd>\n",
       "\t<dt>10</dt>\n",
       "\t\t<dd>0.33901297148007</dd>\n",
       "\t<dt>11</dt>\n",
       "\t\t<dd>0.224417037458638</dd>\n",
       "\t<dt>12</dt>\n",
       "\t\t<dd>0.701548367942358</dd>\n",
       "\t<dt>13</dt>\n",
       "\t\t<dd>0.730197351447716</dd>\n",
       "\t<dt>14</dt>\n",
       "\t\t<dd>0.739747012616168</dd>\n",
       "\t<dt>15</dt>\n",
       "\t\t<dd>0.381986446738107</dd>\n",
       "\t<dt>16</dt>\n",
       "\t\t<dd>&lt;NA&gt;</dd>\n",
       "\t<dt>17</dt>\n",
       "\t\t<dd>0.114595934021432</dd>\n",
       "\t<dt>18</dt>\n",
       "\t\t<dd>0.8543429466376</dd>\n",
       "\t<dt>19</dt>\n",
       "\t\t<dd>0.768395996121526</dd>\n",
       "\t<dt>20</dt>\n",
       "\t\t<dd>0.171893901032148</dd>\n",
       "</dl>\n"
      ],
      "text/latex": [
       "\\begin{description*}\n",
       "\\item[1] 0.754071504368847\n",
       "\\item[2] 0.00437708719656028\n",
       "\\item[3] 0.625151078594736\n",
       "\\item[4] 0.14324491752679\n",
       "\\item[5] 0.734972182031942\n",
       "\\item[6] 0.229191868042864\n",
       "\\item[7] 0.916415744232543\n",
       "\\item[8] 0.186218392784827\n",
       "\\item[9] 0.868667438390279\n",
       "\\item[10] 0.33901297148007\n",
       "\\item[11] 0.224417037458638\n",
       "\\item[12] 0.701548367942358\n",
       "\\item[13] 0.730197351447716\n",
       "\\item[14] 0.739747012616168\n",
       "\\item[15] 0.381986446738107\n",
       "\\item[16] <NA>\n",
       "\\item[17] 0.114595934021432\n",
       "\\item[18] 0.8543429466376\n",
       "\\item[19] 0.768395996121526\n",
       "\\item[20] 0.171893901032148\n",
       "\\end{description*}\n"
      ],
      "text/markdown": [
       "1\n",
       ":   0.7540715043688472\n",
       ":   0.004377087196560283\n",
       ":   0.6251510785947364\n",
       ":   0.143244917526795\n",
       ":   0.7349721820319426\n",
       ":   0.2291918680428647\n",
       ":   0.9164157442325438\n",
       ":   0.1862183927848279\n",
       ":   0.86866743839027910\n",
       ":   0.3390129714800711\n",
       ":   0.22441703745863812\n",
       ":   0.70154836794235813\n",
       ":   0.73019735144771614\n",
       ":   0.73974701261616815\n",
       ":   0.38198644673810716\n",
       ":   &lt;NA&gt;17\n",
       ":   0.11459593402143218\n",
       ":   0.854342946637619\n",
       ":   0.76839599612152620\n",
       ":   0.171893901032148\n",
       "\n"
      ],
      "text/plain": [
       "          1           2           3           4           5           6 \n",
       "0.754071504 0.004377087 0.625151079 0.143244918 0.734972182 0.229191868 \n",
       "          7           8           9          10          11          12 \n",
       "0.916415744 0.186218393 0.868667438 0.339012971 0.224417037 0.701548368 \n",
       "         13          14          15          16          17          18 \n",
       "0.730197351 0.739747013 0.381986447          NA 0.114595934 0.854342947 \n",
       "         19          20 \n",
       "0.768395996 0.171893901 "
      ]
     },
     "metadata": {},
     "output_type": "display_data"
    }
   ],
   "source": [
    "survival_predict <- predict(linearMod, newdata=df)\n",
    "head(survival_predict,20)"
   ]
  },
  {
   "cell_type": "code",
   "execution_count": 62,
   "metadata": {},
   "outputs": [
    {
     "data": {
      "text/html": [
       "<dl class=dl-horizontal>\n",
       "\t<dt>1</dt>\n",
       "\t\t<dd>0.754071504368847</dd>\n",
       "\t<dt>2</dt>\n",
       "\t\t<dd>0.00437708719656028</dd>\n",
       "\t<dt>3</dt>\n",
       "\t\t<dd>0.625151078594736</dd>\n",
       "\t<dt>4</dt>\n",
       "\t\t<dd>0.14324491752679</dd>\n",
       "\t<dt>5</dt>\n",
       "\t\t<dd>0.734972182031942</dd>\n",
       "\t<dt>6</dt>\n",
       "\t\t<dd>0.229191868042864</dd>\n",
       "\t<dt>7</dt>\n",
       "\t\t<dd>0.916415744232543</dd>\n",
       "\t<dt>8</dt>\n",
       "\t\t<dd>0.186218392784827</dd>\n",
       "\t<dt>9</dt>\n",
       "\t\t<dd>0.868667438390279</dd>\n",
       "\t<dt>10</dt>\n",
       "\t\t<dd>0.33901297148007</dd>\n",
       "\t<dt>11</dt>\n",
       "\t\t<dd>0.224417037458638</dd>\n",
       "\t<dt>12</dt>\n",
       "\t\t<dd>0.701548367942358</dd>\n",
       "\t<dt>13</dt>\n",
       "\t\t<dd>0.730197351447716</dd>\n",
       "\t<dt>14</dt>\n",
       "\t\t<dd>0.739747012616168</dd>\n",
       "\t<dt>15</dt>\n",
       "\t\t<dd>0.381986446738107</dd>\n",
       "\t<dt>17</dt>\n",
       "\t\t<dd>0.114595934021432</dd>\n",
       "\t<dt>18</dt>\n",
       "\t\t<dd>0.8543429466376</dd>\n",
       "\t<dt>19</dt>\n",
       "\t\t<dd>0.768395996121526</dd>\n",
       "\t<dt>20</dt>\n",
       "\t\t<dd>0.171893901032148</dd>\n",
       "\t<dt>21</dt>\n",
       "\t\t<dd>0.176668731616374</dd>\n",
       "</dl>\n"
      ],
      "text/latex": [
       "\\begin{description*}\n",
       "\\item[1] 0.754071504368847\n",
       "\\item[2] 0.00437708719656028\n",
       "\\item[3] 0.625151078594736\n",
       "\\item[4] 0.14324491752679\n",
       "\\item[5] 0.734972182031942\n",
       "\\item[6] 0.229191868042864\n",
       "\\item[7] 0.916415744232543\n",
       "\\item[8] 0.186218392784827\n",
       "\\item[9] 0.868667438390279\n",
       "\\item[10] 0.33901297148007\n",
       "\\item[11] 0.224417037458638\n",
       "\\item[12] 0.701548367942358\n",
       "\\item[13] 0.730197351447716\n",
       "\\item[14] 0.739747012616168\n",
       "\\item[15] 0.381986446738107\n",
       "\\item[17] 0.114595934021432\n",
       "\\item[18] 0.8543429466376\n",
       "\\item[19] 0.768395996121526\n",
       "\\item[20] 0.171893901032148\n",
       "\\item[21] 0.176668731616374\n",
       "\\end{description*}\n"
      ],
      "text/markdown": [
       "1\n",
       ":   0.7540715043688472\n",
       ":   0.004377087196560283\n",
       ":   0.6251510785947364\n",
       ":   0.143244917526795\n",
       ":   0.7349721820319426\n",
       ":   0.2291918680428647\n",
       ":   0.9164157442325438\n",
       ":   0.1862183927848279\n",
       ":   0.86866743839027910\n",
       ":   0.3390129714800711\n",
       ":   0.22441703745863812\n",
       ":   0.70154836794235813\n",
       ":   0.73019735144771614\n",
       ":   0.73974701261616815\n",
       ":   0.38198644673810717\n",
       ":   0.11459593402143218\n",
       ":   0.854342946637619\n",
       ":   0.76839599612152620\n",
       ":   0.17189390103214821\n",
       ":   0.176668731616374\n",
       "\n"
      ],
      "text/plain": [
       "          1           2           3           4           5           6 \n",
       "0.754071504 0.004377087 0.625151079 0.143244918 0.734972182 0.229191868 \n",
       "          7           8           9          10          11          12 \n",
       "0.916415744 0.186218393 0.868667438 0.339012971 0.224417037 0.701548368 \n",
       "         13          14          15          17          18          19 \n",
       "0.730197351 0.739747013 0.381986447 0.114595934 0.854342947 0.768395996 \n",
       "         20          21 \n",
       "0.171893901 0.176668732 "
      ]
     },
     "metadata": {},
     "output_type": "display_data"
    }
   ],
   "source": [
    "survival_predict <- na.omit(survival_predict)\n",
    "head(survival_predict,20)"
   ]
  },
  {
   "cell_type": "code",
   "execution_count": 63,
   "metadata": {},
   "outputs": [
    {
     "data": {
      "text/html": [
       "0.371026637907211"
      ],
      "text/latex": [
       "0.371026637907211"
      ],
      "text/markdown": [
       "0.371026637907211"
      ],
      "text/plain": [
       "[1] 0.3710266"
      ]
     },
     "metadata": {},
     "output_type": "display_data"
    }
   ],
   "source": [
    "mean(survival_predict)"
   ]
  },
  {
   "cell_type": "code",
   "execution_count": 58,
   "metadata": {},
   "outputs": [
    {
     "data": {
      "text/html": [
       "0.381970970206264"
      ],
      "text/latex": [
       "0.381970970206264"
      ],
      "text/markdown": [
       "0.381970970206264"
      ],
      "text/plain": [
       "[1] 0.381971"
      ]
     },
     "metadata": {},
     "output_type": "display_data"
    }
   ],
   "source": [
    "mean(df$survived)"
   ]
  },
  {
   "cell_type": "code",
   "execution_count": null,
   "metadata": {},
   "outputs": [],
   "source": [
    "# The model predicts 37% survival based on the data.\n",
    "# The actual data has 38% survival."
   ]
  },
  {
   "cell_type": "code",
   "execution_count": 25,
   "metadata": {},
   "outputs": [
    {
     "data": {
      "text/plain": [
       "\n",
       "Call:\n",
       "lm(formula = survived ~ pclass + age + male + relatives, data = df)\n",
       "\n",
       "Residuals:\n",
       "     Min       1Q   Median       3Q      Max \n",
       "-1.06217 -0.25457 -0.08101  0.22485  0.99096 \n",
       "\n",
       "Coefficients:\n",
       "              Estimate Std. Error t value Pr(>|t|)    \n",
       "(Intercept)  1.3205012  0.0570010  23.166  < 2e-16 ***\n",
       "pclass      -0.1840870  0.0160132 -11.496  < 2e-16 ***\n",
       "age         -0.0057158  0.0009509  -6.011 2.55e-09 ***\n",
       "male        -0.5019920  0.0258632 -19.409  < 2e-16 ***\n",
       "relatives   -0.0209386  0.0087070  -2.405   0.0164 *  \n",
       "---\n",
       "Signif. codes:  0 ‘***’ 0.001 ‘**’ 0.01 ‘*’ 0.05 ‘.’ 0.1 ‘ ’ 1\n",
       "\n",
       "Residual standard error: 0.3904 on 1041 degrees of freedom\n",
       "  (263 observations deleted due to missingness)\n",
       "Multiple R-squared:  0.3721,\tAdjusted R-squared:  0.3697 \n",
       "F-statistic: 154.2 on 4 and 1041 DF,  p-value: < 2.2e-16\n"
      ]
     },
     "metadata": {},
     "output_type": "display_data"
    }
   ],
   "source": [
    "# Regression using male as independent variable for gender \n",
    "linearMod <- lm(survived ~ pclass + age + male + relatives, data=df)\n",
    "summary(linearMod)\n",
    "# Adj. R-Squared: 0.3697\n",
    "# Intercept: 1.3205"
   ]
  },
  {
   "cell_type": "code",
   "execution_count": 26,
   "metadata": {},
   "outputs": [
    {
     "data": {
      "text/plain": [
       "\n",
       "Call:\n",
       "lm(formula = survived ~ pclass + age + male + relatives - 1, \n",
       "    data = df)\n",
       "\n",
       "Residuals:\n",
       "    Min      1Q  Median      3Q     Max \n",
       "-1.1055 -0.2637 -0.1129  0.4607  1.1717 \n",
       "\n",
       "Coefficients:\n",
       "            Estimate Std. Error t value Pr(>|t|)    \n",
       "pclass     0.1062914  0.0122621   8.668  < 2e-16 ***\n",
       "age        0.0111101  0.0007552  14.712  < 2e-16 ***\n",
       "male      -0.4107282  0.0314529 -13.059  < 2e-16 ***\n",
       "relatives  0.0441315  0.0101411   4.352 1.48e-05 ***\n",
       "---\n",
       "Signif. codes:  0 ‘***’ 0.001 ‘**’ 0.01 ‘*’ 0.05 ‘.’ 0.1 ‘ ’ 1\n",
       "\n",
       "Residual standard error: 0.4804 on 1042 degrees of freedom\n",
       "  (263 observations deleted due to missingness)\n",
       "Multiple R-squared:  0.4368,\tAdjusted R-squared:  0.4347 \n",
       "F-statistic: 202.1 on 4 and 1042 DF,  p-value: < 2.2e-16\n"
      ]
     },
     "metadata": {},
     "output_type": "display_data"
    }
   ],
   "source": [
    "# Try regression without intercept\n",
    "linearMod <- lm(survived ~ pclass + age + male + relatives - 1, data=df)\n",
    "summary(linearMod)\n",
    "# Adj. R-Squared: 0.4347, increase from previous model\n",
    "# all independent variables have low P-value\n",
    "# These results are different from using female as gender variable. Why?"
   ]
  },
  {
   "cell_type": "code",
   "execution_count": 32,
   "metadata": {},
   "outputs": [
    {
     "data": {
      "text/html": [
       "<strong>1:</strong> 0.152259747417044"
      ],
      "text/latex": [
       "\\textbf{1:} 0.152259747417044"
      ],
      "text/markdown": [
       "**1:** 0.152259747417044"
      ],
      "text/plain": [
       "        1 \n",
       "0.1522597 "
      ]
     },
     "metadata": {},
     "output_type": "display_data"
    }
   ],
   "source": [
    "# using the model, predict survival of 3rd class 18-year old male with 1 relative\n",
    "predict(linearMod, newdata=data.frame(pclass = 3, age = 18, male = 1, relatives = 1))"
   ]
  },
  {
   "cell_type": "code",
   "execution_count": 55,
   "metadata": {},
   "outputs": [
    {
     "data": {
      "text/html": [
       "<dl class=dl-horizontal>\n",
       "\t<dt>1</dt>\n",
       "\t\t<dd>0.428484984689072</dd>\n",
       "\t<dt>2</dt>\n",
       "\t\t<dd>-0.161857638392617</dd>\n",
       "\t<dt>3</dt>\n",
       "\t\t<dd>0.260906158041489</dd>\n",
       "\t<dt>4</dt>\n",
       "\t\t<dd>0.161261410531095</dd>\n",
       "\t<dt>5</dt>\n",
       "\t\t<dd>0.516438993904179</dd>\n",
       "\t<dt>6</dt>\n",
       "\t\t<dd>0.228849127493278</dd>\n",
       "\t<dt>7</dt>\n",
       "\t\t<dd>0.850360677636791</dd>\n",
       "\t<dt>8</dt>\n",
       "\t\t<dd>0.128858017807877</dd>\n",
       "\t<dt>9</dt>\n",
       "\t\t<dd>0.783390945455886</dd>\n",
       "\t<dt>10</dt>\n",
       "\t\t<dd>0.484381963355968</dd>\n",
       "\t<dt>11</dt>\n",
       "\t\t<dd>0.261870504997773</dd>\n",
       "\t<dt>12</dt>\n",
       "\t\t<dd>0.350405129209788</dd>\n",
       "\t<dt>13</dt>\n",
       "\t\t<dd>0.372934368197183</dd>\n",
       "\t<dt>14</dt>\n",
       "\t\t<dd>0.395154614793938</dd>\n",
       "\t<dt>15</dt>\n",
       "\t\t<dd>0.584373073041369</dd>\n",
       "\t<dt>16</dt>\n",
       "\t\t<dd>&lt;NA&gt;</dd>\n",
       "\t<dt>17</dt>\n",
       "\t\t<dd>0.00633766913508258</dd>\n",
       "\t<dt>18</dt>\n",
       "\t\t<dd>0.705929074757879</dd>\n",
       "\t<dt>19</dt>\n",
       "\t\t<dd>0.461815354584205</dd>\n",
       "\t<dt>20</dt>\n",
       "\t\t<dd>0.0955276479127438</dd>\n",
       "</dl>\n"
      ],
      "text/latex": [
       "\\begin{description*}\n",
       "\\item[1] 0.428484984689072\n",
       "\\item[2] -0.161857638392617\n",
       "\\item[3] 0.260906158041489\n",
       "\\item[4] 0.161261410531095\n",
       "\\item[5] 0.516438993904179\n",
       "\\item[6] 0.228849127493278\n",
       "\\item[7] 0.850360677636791\n",
       "\\item[8] 0.128858017807877\n",
       "\\item[9] 0.783390945455886\n",
       "\\item[10] 0.484381963355968\n",
       "\\item[11] 0.261870504997773\n",
       "\\item[12] 0.350405129209788\n",
       "\\item[13] 0.372934368197183\n",
       "\\item[14] 0.395154614793938\n",
       "\\item[15] 0.584373073041369\n",
       "\\item[16] <NA>\n",
       "\\item[17] 0.00633766913508258\n",
       "\\item[18] 0.705929074757879\n",
       "\\item[19] 0.461815354584205\n",
       "\\item[20] 0.0955276479127438\n",
       "\\end{description*}\n"
      ],
      "text/markdown": [
       "1\n",
       ":   0.4284849846890722\n",
       ":   -0.1618576383926173\n",
       ":   0.2609061580414894\n",
       ":   0.1612614105310955\n",
       ":   0.5164389939041796\n",
       ":   0.2288491274932787\n",
       ":   0.8503606776367918\n",
       ":   0.1288580178078779\n",
       ":   0.78339094545588610\n",
       ":   0.48438196335596811\n",
       ":   0.26187050499777312\n",
       ":   0.35040512920978813\n",
       ":   0.37293436819718314\n",
       ":   0.39515461479393815\n",
       ":   0.58437307304136916\n",
       ":   &lt;NA&gt;17\n",
       ":   0.0063376691350825818\n",
       ":   0.70592907475787919\n",
       ":   0.46181535458420520\n",
       ":   0.0955276479127438\n",
       "\n"
      ],
      "text/plain": [
       "           1            2            3            4            5            6 \n",
       " 0.428484985 -0.161857638  0.260906158  0.161261411  0.516438994  0.228849127 \n",
       "           7            8            9           10           11           12 \n",
       " 0.850360678  0.128858018  0.783390945  0.484381963  0.261870505  0.350405129 \n",
       "          13           14           15           16           17           18 \n",
       " 0.372934368  0.395154615  0.584373073           NA  0.006337669  0.705929075 \n",
       "          19           20 \n",
       " 0.461815355  0.095527648 "
      ]
     },
     "metadata": {},
     "output_type": "display_data"
    }
   ],
   "source": [
    "survival_predict <- predict(linearMod, newdata=df)\n",
    "head(survival_predict,20)"
   ]
  },
  {
   "cell_type": "code",
   "execution_count": 56,
   "metadata": {},
   "outputs": [
    {
     "data": {
      "text/html": [
       "<dl class=dl-horizontal>\n",
       "\t<dt>1</dt>\n",
       "\t\t<dd>0.428484984689072</dd>\n",
       "\t<dt>2</dt>\n",
       "\t\t<dd>-0.161857638392617</dd>\n",
       "\t<dt>3</dt>\n",
       "\t\t<dd>0.260906158041489</dd>\n",
       "\t<dt>4</dt>\n",
       "\t\t<dd>0.161261410531095</dd>\n",
       "\t<dt>5</dt>\n",
       "\t\t<dd>0.516438993904179</dd>\n",
       "\t<dt>6</dt>\n",
       "\t\t<dd>0.228849127493278</dd>\n",
       "\t<dt>7</dt>\n",
       "\t\t<dd>0.850360677636791</dd>\n",
       "\t<dt>8</dt>\n",
       "\t\t<dd>0.128858017807877</dd>\n",
       "\t<dt>9</dt>\n",
       "\t\t<dd>0.783390945455886</dd>\n",
       "\t<dt>10</dt>\n",
       "\t\t<dd>0.484381963355968</dd>\n",
       "\t<dt>11</dt>\n",
       "\t\t<dd>0.261870504997773</dd>\n",
       "\t<dt>12</dt>\n",
       "\t\t<dd>0.350405129209788</dd>\n",
       "\t<dt>13</dt>\n",
       "\t\t<dd>0.372934368197183</dd>\n",
       "\t<dt>14</dt>\n",
       "\t\t<dd>0.395154614793938</dd>\n",
       "\t<dt>15</dt>\n",
       "\t\t<dd>0.584373073041369</dd>\n",
       "\t<dt>17</dt>\n",
       "\t\t<dd>0.00633766913508258</dd>\n",
       "\t<dt>18</dt>\n",
       "\t\t<dd>0.705929074757879</dd>\n",
       "\t<dt>19</dt>\n",
       "\t\t<dd>0.461815354584205</dd>\n",
       "\t<dt>20</dt>\n",
       "\t\t<dd>0.0955276479127438</dd>\n",
       "\t<dt>21</dt>\n",
       "\t\t<dd>0.194900772816867</dd>\n",
       "</dl>\n"
      ],
      "text/latex": [
       "\\begin{description*}\n",
       "\\item[1] 0.428484984689072\n",
       "\\item[2] -0.161857638392617\n",
       "\\item[3] 0.260906158041489\n",
       "\\item[4] 0.161261410531095\n",
       "\\item[5] 0.516438993904179\n",
       "\\item[6] 0.228849127493278\n",
       "\\item[7] 0.850360677636791\n",
       "\\item[8] 0.128858017807877\n",
       "\\item[9] 0.783390945455886\n",
       "\\item[10] 0.484381963355968\n",
       "\\item[11] 0.261870504997773\n",
       "\\item[12] 0.350405129209788\n",
       "\\item[13] 0.372934368197183\n",
       "\\item[14] 0.395154614793938\n",
       "\\item[15] 0.584373073041369\n",
       "\\item[17] 0.00633766913508258\n",
       "\\item[18] 0.705929074757879\n",
       "\\item[19] 0.461815354584205\n",
       "\\item[20] 0.0955276479127438\n",
       "\\item[21] 0.194900772816867\n",
       "\\end{description*}\n"
      ],
      "text/markdown": [
       "1\n",
       ":   0.4284849846890722\n",
       ":   -0.1618576383926173\n",
       ":   0.2609061580414894\n",
       ":   0.1612614105310955\n",
       ":   0.5164389939041796\n",
       ":   0.2288491274932787\n",
       ":   0.8503606776367918\n",
       ":   0.1288580178078779\n",
       ":   0.78339094545588610\n",
       ":   0.48438196335596811\n",
       ":   0.26187050499777312\n",
       ":   0.35040512920978813\n",
       ":   0.37293436819718314\n",
       ":   0.39515461479393815\n",
       ":   0.58437307304136917\n",
       ":   0.0063376691350825818\n",
       ":   0.70592907475787919\n",
       ":   0.46181535458420520\n",
       ":   0.095527647912743821\n",
       ":   0.194900772816867\n",
       "\n"
      ],
      "text/plain": [
       "           1            2            3            4            5            6 \n",
       " 0.428484985 -0.161857638  0.260906158  0.161261411  0.516438994  0.228849127 \n",
       "           7            8            9           10           11           12 \n",
       " 0.850360678  0.128858018  0.783390945  0.484381963  0.261870505  0.350405129 \n",
       "          13           14           15           17           18           19 \n",
       " 0.372934368  0.395154615  0.584373073  0.006337669  0.705929075  0.461815355 \n",
       "          20           21 \n",
       " 0.095527648  0.194900773 "
      ]
     },
     "metadata": {},
     "output_type": "display_data"
    }
   ],
   "source": [
    "survival_predict <- na.omit(survival_predict)\n",
    "head(survival_predict,20)"
   ]
  },
  {
   "cell_type": "code",
   "execution_count": 57,
   "metadata": {},
   "outputs": [
    {
     "data": {
      "text/html": [
       "0.348999090381275"
      ],
      "text/latex": [
       "0.348999090381275"
      ],
      "text/markdown": [
       "0.348999090381275"
      ],
      "text/plain": [
       "[1] 0.3489991"
      ]
     },
     "metadata": {},
     "output_type": "display_data"
    }
   ],
   "source": [
    "mean(survival_predict)"
   ]
  },
  {
   "cell_type": "code",
   "execution_count": 58,
   "metadata": {},
   "outputs": [
    {
     "data": {
      "text/html": [
       "0.381970970206264"
      ],
      "text/latex": [
       "0.381970970206264"
      ],
      "text/markdown": [
       "0.381970970206264"
      ],
      "text/plain": [
       "[1] 0.381971"
      ]
     },
     "metadata": {},
     "output_type": "display_data"
    }
   ],
   "source": [
    "mean(df$survived)"
   ]
  },
  {
   "cell_type": "code",
   "execution_count": null,
   "metadata": {},
   "outputs": [],
   "source": [
    "# The model predicts 35% survival based on the data.\n",
    "# The actual data has 38% survival.\n",
    "# This model is less accurate than the model using female independent variable.\n",
    "# This makes sense as the adj. R-squared for this model is smaller."
   ]
  },
  {
   "cell_type": "code",
   "execution_count": 64,
   "metadata": {},
   "outputs": [
    {
     "data": {
      "text/plain": [
       "\n",
       "Call:\n",
       "lm(formula = survived ~ pclass + age + male + female + relatives, \n",
       "    data = df)\n",
       "\n",
       "Residuals:\n",
       "     Min       1Q   Median       3Q      Max \n",
       "-1.06217 -0.25457 -0.08101  0.22485  0.99096 \n",
       "\n",
       "Coefficients: (1 not defined because of singularities)\n",
       "              Estimate Std. Error t value Pr(>|t|)    \n",
       "(Intercept)  1.3205012  0.0570010  23.166  < 2e-16 ***\n",
       "pclass      -0.1840870  0.0160132 -11.496  < 2e-16 ***\n",
       "age         -0.0057158  0.0009509  -6.011 2.55e-09 ***\n",
       "male        -0.5019920  0.0258632 -19.409  < 2e-16 ***\n",
       "female              NA         NA      NA       NA    \n",
       "relatives   -0.0209386  0.0087070  -2.405   0.0164 *  \n",
       "---\n",
       "Signif. codes:  0 ‘***’ 0.001 ‘**’ 0.01 ‘*’ 0.05 ‘.’ 0.1 ‘ ’ 1\n",
       "\n",
       "Residual standard error: 0.3904 on 1041 degrees of freedom\n",
       "  (263 observations deleted due to missingness)\n",
       "Multiple R-squared:  0.3721,\tAdjusted R-squared:  0.3697 \n",
       "F-statistic: 154.2 on 4 and 1041 DF,  p-value: < 2.2e-16\n"
      ]
     },
     "metadata": {},
     "output_type": "display_data"
    }
   ],
   "source": [
    "# Regression using male and female variables \n",
    "linearMod <- lm(survived ~ pclass + age + male + female + relatives, data=df)\n",
    "summary(linearMod)\n",
    "# female coefficient not defined because of singularities"
   ]
  }
 ],
 "metadata": {
  "kernelspec": {
   "display_name": "R",
   "language": "R",
   "name": "r"
  },
  "language_info": {
   "codemirror_mode": "r",
   "file_extension": ".r",
   "mimetype": "text/x-r-source",
   "name": "R",
   "pygments_lexer": "r",
   "version": "3.4.1"
  }
 },
 "nbformat": 4,
 "nbformat_minor": 2
}
